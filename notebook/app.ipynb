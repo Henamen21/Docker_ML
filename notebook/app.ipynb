{
 "cells": [
  {
   "cell_type": "markdown",
   "id": "af568c7b",
   "metadata": {},
   "source": [
    "## Project Title:"
   ]
  },
  {
   "cell_type": "markdown",
   "id": "0c2825c5",
   "metadata": {},
   "source": [
    "### Overview"
   ]
  },
  {
   "cell_type": "markdown",
   "id": "39e56be2",
   "metadata": {},
   "source": [
    "###  Defining the Hypothesis\n",
    "<b>Null Hypothesis</b> : There is no significant relation between age and BMI\n",
    "\n",
    "<b>Alternative Hypothesis</b> : There is a significant relationship between age and BMI"
   ]
  },
  {
   "cell_type": "markdown",
   "id": "334207e1",
   "metadata": {},
   "source": [
    "### Questions"
   ]
  },
  {
   "cell_type": "code",
   "execution_count": 110,
   "id": "050ea3ea",
   "metadata": {},
   "outputs": [
    {
     "name": "stdout",
     "output_type": "stream",
     "text": [
      "Note: you may need to restart the kernel to use updated packages.\n"
     ]
    },
    {
     "name": "stderr",
     "output_type": "stream",
     "text": [
      "ERROR: Invalid requirement: 'statsmodels,'\n",
      "\n",
      "[notice] A new release of pip is available: 23.2 -> 23.2.1\n",
      "[notice] To update, run: python.exe -m pip install --upgrade pip\n"
     ]
    }
   ],
   "source": [
    "pip install statsmodels, joblib"
   ]
  },
  {
   "cell_type": "code",
   "execution_count": 96,
   "id": "e67b8b23",
   "metadata": {},
   "outputs": [
    {
     "name": "stdout",
     "output_type": "stream",
     "text": [
      "c:\\Users\\Wycliffe\\Desktop\\Contributions\\Docker_ML\\notebook\n"
     ]
    }
   ],
   "source": [
    "import pandas as pd\n",
    "import numpy as np\n",
    "import seaborn as sns\n",
    "import matplotlib.pyplot as plt\n",
    "\n",
    "\n",
    "# For data balancing\n",
    "from imblearn.over_sampling import SMOTE\n",
    "\n",
    "# For data spliting\n",
    "from sklearn.model_selection import train_test_split\n",
    "\n",
    "# For machine learning model\n",
    "from sklearn import svm\n",
    "from sklearn.tree import DecisionTreeClassifier\n",
    "from sklearn.neighbors import KNeighborsClassifier\n",
    "from sklearn.ensemble import RandomForestClassifier\n",
    "from sklearn.linear_model import LogisticRegression\n",
    "from sklearn.ensemble import HistGradientBoostingClassifier\n",
    "\n",
    "# For evaluating model results\n",
    "from sklearn.metrics import classification_report\n",
    "from sklearn.model_selection import StratifiedKFold, cross_val_score\n",
    "from sklearn.metrics import f1_score\n",
    "\n",
    "# For hyperparameter tunning\n",
    "from sklearn.model_selection import GridSearchCV\n",
    "from sklearn.metrics import confusion_matrix\n",
    "from sklearn.metrics import ConfusionMatrixDisplay\n",
    "from sklearn.model_selection import KFold, cross_val_score\n",
    "from sklearn.model_selection import RandomizedSearchCV\n",
    "\n",
    "# For pipeline\n",
    "from sklearn.pipeline import make_pipeline\n",
    "from sklearn.preprocessing import StandardScaler\n",
    "from sklearn.feature_selection import SelectKBest\n",
    "from sklearn.linear_model import LogisticRegression\n",
    "\n",
    "# For model saving\n",
    "import joblib\n",
    "\n",
    "# For controlling warnings\n",
    "import warnings\n",
    "\n",
    "plt.style.use('fivethirtyeight')\n",
    "warnings.filterwarnings('ignore')"
   ]
  },
  {
   "cell_type": "code",
   "execution_count": 14,
   "id": "27eaf62e",
   "metadata": {},
   "outputs": [],
   "source": [
    "train = pd.read_csv('data/Paitients_Files_Train.csv')\n",
    "test = pd.read_csv('data/Paitients_Files_Test.csv')"
   ]
  },
  {
   "cell_type": "code",
   "execution_count": 15,
   "id": "b310c250",
   "metadata": {},
   "outputs": [
    {
     "data": {
      "text/html": [
       "<div>\n",
       "<style scoped>\n",
       "    .dataframe tbody tr th:only-of-type {\n",
       "        vertical-align: middle;\n",
       "    }\n",
       "\n",
       "    .dataframe tbody tr th {\n",
       "        vertical-align: top;\n",
       "    }\n",
       "\n",
       "    .dataframe thead th {\n",
       "        text-align: right;\n",
       "    }\n",
       "</style>\n",
       "<table border=\"1\" class=\"dataframe\">\n",
       "  <thead>\n",
       "    <tr style=\"text-align: right;\">\n",
       "      <th></th>\n",
       "      <th>ID</th>\n",
       "      <th>PRG</th>\n",
       "      <th>PL</th>\n",
       "      <th>PR</th>\n",
       "      <th>SK</th>\n",
       "      <th>TS</th>\n",
       "      <th>M11</th>\n",
       "      <th>BD2</th>\n",
       "      <th>Age</th>\n",
       "      <th>Insurance</th>\n",
       "      <th>Sepssis</th>\n",
       "    </tr>\n",
       "  </thead>\n",
       "  <tbody>\n",
       "    <tr>\n",
       "      <th>0</th>\n",
       "      <td>ICU200010</td>\n",
       "      <td>6</td>\n",
       "      <td>148</td>\n",
       "      <td>72</td>\n",
       "      <td>35</td>\n",
       "      <td>0</td>\n",
       "      <td>33.6</td>\n",
       "      <td>0.627</td>\n",
       "      <td>50</td>\n",
       "      <td>0</td>\n",
       "      <td>Positive</td>\n",
       "    </tr>\n",
       "    <tr>\n",
       "      <th>1</th>\n",
       "      <td>ICU200011</td>\n",
       "      <td>1</td>\n",
       "      <td>85</td>\n",
       "      <td>66</td>\n",
       "      <td>29</td>\n",
       "      <td>0</td>\n",
       "      <td>26.6</td>\n",
       "      <td>0.351</td>\n",
       "      <td>31</td>\n",
       "      <td>0</td>\n",
       "      <td>Negative</td>\n",
       "    </tr>\n",
       "    <tr>\n",
       "      <th>2</th>\n",
       "      <td>ICU200012</td>\n",
       "      <td>8</td>\n",
       "      <td>183</td>\n",
       "      <td>64</td>\n",
       "      <td>0</td>\n",
       "      <td>0</td>\n",
       "      <td>23.3</td>\n",
       "      <td>0.672</td>\n",
       "      <td>32</td>\n",
       "      <td>1</td>\n",
       "      <td>Positive</td>\n",
       "    </tr>\n",
       "    <tr>\n",
       "      <th>3</th>\n",
       "      <td>ICU200013</td>\n",
       "      <td>1</td>\n",
       "      <td>89</td>\n",
       "      <td>66</td>\n",
       "      <td>23</td>\n",
       "      <td>94</td>\n",
       "      <td>28.1</td>\n",
       "      <td>0.167</td>\n",
       "      <td>21</td>\n",
       "      <td>1</td>\n",
       "      <td>Negative</td>\n",
       "    </tr>\n",
       "    <tr>\n",
       "      <th>4</th>\n",
       "      <td>ICU200014</td>\n",
       "      <td>0</td>\n",
       "      <td>137</td>\n",
       "      <td>40</td>\n",
       "      <td>35</td>\n",
       "      <td>168</td>\n",
       "      <td>43.1</td>\n",
       "      <td>2.288</td>\n",
       "      <td>33</td>\n",
       "      <td>1</td>\n",
       "      <td>Positive</td>\n",
       "    </tr>\n",
       "  </tbody>\n",
       "</table>\n",
       "</div>"
      ],
      "text/plain": [
       "          ID  PRG   PL  PR  SK   TS   M11    BD2  Age  Insurance   Sepssis\n",
       "0  ICU200010    6  148  72  35    0  33.6  0.627   50          0  Positive\n",
       "1  ICU200011    1   85  66  29    0  26.6  0.351   31          0  Negative\n",
       "2  ICU200012    8  183  64   0    0  23.3  0.672   32          1  Positive\n",
       "3  ICU200013    1   89  66  23   94  28.1  0.167   21          1  Negative\n",
       "4  ICU200014    0  137  40  35  168  43.1  2.288   33          1  Positive"
      ]
     },
     "execution_count": 15,
     "metadata": {},
     "output_type": "execute_result"
    }
   ],
   "source": [
    "train.head()"
   ]
  },
  {
   "cell_type": "code",
   "execution_count": 16,
   "id": "908828f2",
   "metadata": {},
   "outputs": [
    {
     "data": {
      "text/html": [
       "<div>\n",
       "<style scoped>\n",
       "    .dataframe tbody tr th:only-of-type {\n",
       "        vertical-align: middle;\n",
       "    }\n",
       "\n",
       "    .dataframe tbody tr th {\n",
       "        vertical-align: top;\n",
       "    }\n",
       "\n",
       "    .dataframe thead th {\n",
       "        text-align: right;\n",
       "    }\n",
       "</style>\n",
       "<table border=\"1\" class=\"dataframe\">\n",
       "  <thead>\n",
       "    <tr style=\"text-align: right;\">\n",
       "      <th></th>\n",
       "      <th>id</th>\n",
       "      <th>plasma_glucose</th>\n",
       "      <th>blood_work_result_1</th>\n",
       "      <th>blood_pressure</th>\n",
       "      <th>blood_work_result_2</th>\n",
       "      <th>blood_work_result_3</th>\n",
       "      <th>body_mass_index</th>\n",
       "      <th>blood_work_result_4</th>\n",
       "      <th>Age</th>\n",
       "      <th>Insurance</th>\n",
       "      <th>Sepssis</th>\n",
       "    </tr>\n",
       "  </thead>\n",
       "  <tbody>\n",
       "    <tr>\n",
       "      <th>0</th>\n",
       "      <td>ICU200010</td>\n",
       "      <td>6</td>\n",
       "      <td>148</td>\n",
       "      <td>72</td>\n",
       "      <td>35</td>\n",
       "      <td>0</td>\n",
       "      <td>33.6</td>\n",
       "      <td>0.627</td>\n",
       "      <td>50</td>\n",
       "      <td>0</td>\n",
       "      <td>Positive</td>\n",
       "    </tr>\n",
       "    <tr>\n",
       "      <th>1</th>\n",
       "      <td>ICU200011</td>\n",
       "      <td>1</td>\n",
       "      <td>85</td>\n",
       "      <td>66</td>\n",
       "      <td>29</td>\n",
       "      <td>0</td>\n",
       "      <td>26.6</td>\n",
       "      <td>0.351</td>\n",
       "      <td>31</td>\n",
       "      <td>0</td>\n",
       "      <td>Negative</td>\n",
       "    </tr>\n",
       "    <tr>\n",
       "      <th>2</th>\n",
       "      <td>ICU200012</td>\n",
       "      <td>8</td>\n",
       "      <td>183</td>\n",
       "      <td>64</td>\n",
       "      <td>0</td>\n",
       "      <td>0</td>\n",
       "      <td>23.3</td>\n",
       "      <td>0.672</td>\n",
       "      <td>32</td>\n",
       "      <td>1</td>\n",
       "      <td>Positive</td>\n",
       "    </tr>\n",
       "    <tr>\n",
       "      <th>3</th>\n",
       "      <td>ICU200013</td>\n",
       "      <td>1</td>\n",
       "      <td>89</td>\n",
       "      <td>66</td>\n",
       "      <td>23</td>\n",
       "      <td>94</td>\n",
       "      <td>28.1</td>\n",
       "      <td>0.167</td>\n",
       "      <td>21</td>\n",
       "      <td>1</td>\n",
       "      <td>Negative</td>\n",
       "    </tr>\n",
       "    <tr>\n",
       "      <th>4</th>\n",
       "      <td>ICU200014</td>\n",
       "      <td>0</td>\n",
       "      <td>137</td>\n",
       "      <td>40</td>\n",
       "      <td>35</td>\n",
       "      <td>168</td>\n",
       "      <td>43.1</td>\n",
       "      <td>2.288</td>\n",
       "      <td>33</td>\n",
       "      <td>1</td>\n",
       "      <td>Positive</td>\n",
       "    </tr>\n",
       "  </tbody>\n",
       "</table>\n",
       "</div>"
      ],
      "text/plain": [
       "          id  plasma_glucose  blood_work_result_1  blood_pressure  \\\n",
       "0  ICU200010               6                  148              72   \n",
       "1  ICU200011               1                   85              66   \n",
       "2  ICU200012               8                  183              64   \n",
       "3  ICU200013               1                   89              66   \n",
       "4  ICU200014               0                  137              40   \n",
       "\n",
       "   blood_work_result_2  blood_work_result_3  body_mass_index  \\\n",
       "0                   35                    0             33.6   \n",
       "1                   29                    0             26.6   \n",
       "2                    0                    0             23.3   \n",
       "3                   23                   94             28.1   \n",
       "4                   35                  168             43.1   \n",
       "\n",
       "   blood_work_result_4  Age  Insurance   Sepssis  \n",
       "0                0.627   50          0  Positive  \n",
       "1                0.351   31          0  Negative  \n",
       "2                0.672   32          1  Positive  \n",
       "3                0.167   21          1  Negative  \n",
       "4                2.288   33          1  Positive  "
      ]
     },
     "execution_count": 16,
     "metadata": {},
     "output_type": "execute_result"
    }
   ],
   "source": [
    "# Renaming columns name\n",
    "train.rename(columns={\"ID\": \"id\", 'PRG': 'plasma_glucose', \"PL\": \"blood_work_result_1\", \"PR\": \"blood_pressure\", \"SK\": \"blood_work_result_2\", \"TS\": \"blood_work_result_3\", \"M11\": \"body_mass_index\", \"BD2\": \"blood_work_result_4\" }, inplace=True)\n",
    "train.head()"
   ]
  },
  {
   "cell_type": "code",
   "execution_count": 17,
   "id": "77184769",
   "metadata": {},
   "outputs": [
    {
     "data": {
      "text/html": [
       "<div>\n",
       "<style scoped>\n",
       "    .dataframe tbody tr th:only-of-type {\n",
       "        vertical-align: middle;\n",
       "    }\n",
       "\n",
       "    .dataframe tbody tr th {\n",
       "        vertical-align: top;\n",
       "    }\n",
       "\n",
       "    .dataframe thead th {\n",
       "        text-align: right;\n",
       "    }\n",
       "</style>\n",
       "<table border=\"1\" class=\"dataframe\">\n",
       "  <thead>\n",
       "    <tr style=\"text-align: right;\">\n",
       "      <th></th>\n",
       "      <th>ID</th>\n",
       "      <th>PRG</th>\n",
       "      <th>PL</th>\n",
       "      <th>PR</th>\n",
       "      <th>SK</th>\n",
       "      <th>TS</th>\n",
       "      <th>M11</th>\n",
       "      <th>BD2</th>\n",
       "      <th>Age</th>\n",
       "      <th>Insurance</th>\n",
       "    </tr>\n",
       "  </thead>\n",
       "  <tbody>\n",
       "    <tr>\n",
       "      <th>0</th>\n",
       "      <td>ICU200609</td>\n",
       "      <td>1</td>\n",
       "      <td>109</td>\n",
       "      <td>38</td>\n",
       "      <td>18</td>\n",
       "      <td>120</td>\n",
       "      <td>23.1</td>\n",
       "      <td>0.407</td>\n",
       "      <td>26</td>\n",
       "      <td>1</td>\n",
       "    </tr>\n",
       "    <tr>\n",
       "      <th>1</th>\n",
       "      <td>ICU200610</td>\n",
       "      <td>1</td>\n",
       "      <td>108</td>\n",
       "      <td>88</td>\n",
       "      <td>19</td>\n",
       "      <td>0</td>\n",
       "      <td>27.1</td>\n",
       "      <td>0.400</td>\n",
       "      <td>24</td>\n",
       "      <td>1</td>\n",
       "    </tr>\n",
       "    <tr>\n",
       "      <th>2</th>\n",
       "      <td>ICU200611</td>\n",
       "      <td>6</td>\n",
       "      <td>96</td>\n",
       "      <td>0</td>\n",
       "      <td>0</td>\n",
       "      <td>0</td>\n",
       "      <td>23.7</td>\n",
       "      <td>0.190</td>\n",
       "      <td>28</td>\n",
       "      <td>1</td>\n",
       "    </tr>\n",
       "    <tr>\n",
       "      <th>3</th>\n",
       "      <td>ICU200612</td>\n",
       "      <td>1</td>\n",
       "      <td>124</td>\n",
       "      <td>74</td>\n",
       "      <td>36</td>\n",
       "      <td>0</td>\n",
       "      <td>27.8</td>\n",
       "      <td>0.100</td>\n",
       "      <td>30</td>\n",
       "      <td>1</td>\n",
       "    </tr>\n",
       "    <tr>\n",
       "      <th>4</th>\n",
       "      <td>ICU200613</td>\n",
       "      <td>7</td>\n",
       "      <td>150</td>\n",
       "      <td>78</td>\n",
       "      <td>29</td>\n",
       "      <td>126</td>\n",
       "      <td>35.2</td>\n",
       "      <td>0.692</td>\n",
       "      <td>54</td>\n",
       "      <td>0</td>\n",
       "    </tr>\n",
       "  </tbody>\n",
       "</table>\n",
       "</div>"
      ],
      "text/plain": [
       "          ID  PRG   PL  PR  SK   TS   M11    BD2  Age  Insurance\n",
       "0  ICU200609    1  109  38  18  120  23.1  0.407   26          1\n",
       "1  ICU200610    1  108  88  19    0  27.1  0.400   24          1\n",
       "2  ICU200611    6   96   0   0    0  23.7  0.190   28          1\n",
       "3  ICU200612    1  124  74  36    0  27.8  0.100   30          1\n",
       "4  ICU200613    7  150  78  29  126  35.2  0.692   54          0"
      ]
     },
     "execution_count": 17,
     "metadata": {},
     "output_type": "execute_result"
    }
   ],
   "source": [
    "test.head()"
   ]
  },
  {
   "cell_type": "code",
   "execution_count": 18,
   "id": "5a52b831",
   "metadata": {},
   "outputs": [
    {
     "data": {
      "text/html": [
       "<div>\n",
       "<style scoped>\n",
       "    .dataframe tbody tr th:only-of-type {\n",
       "        vertical-align: middle;\n",
       "    }\n",
       "\n",
       "    .dataframe tbody tr th {\n",
       "        vertical-align: top;\n",
       "    }\n",
       "\n",
       "    .dataframe thead th {\n",
       "        text-align: right;\n",
       "    }\n",
       "</style>\n",
       "<table border=\"1\" class=\"dataframe\">\n",
       "  <thead>\n",
       "    <tr style=\"text-align: right;\">\n",
       "      <th></th>\n",
       "      <th>id</th>\n",
       "      <th>plasma_glucose</th>\n",
       "      <th>blood_work_result_1</th>\n",
       "      <th>blood_pressure</th>\n",
       "      <th>blood_work_result_2</th>\n",
       "      <th>blood_work_result_3</th>\n",
       "      <th>body_mass_index</th>\n",
       "      <th>blood_work_result_4</th>\n",
       "      <th>Age</th>\n",
       "      <th>Insurance</th>\n",
       "    </tr>\n",
       "  </thead>\n",
       "  <tbody>\n",
       "    <tr>\n",
       "      <th>0</th>\n",
       "      <td>ICU200609</td>\n",
       "      <td>1</td>\n",
       "      <td>109</td>\n",
       "      <td>38</td>\n",
       "      <td>18</td>\n",
       "      <td>120</td>\n",
       "      <td>23.1</td>\n",
       "      <td>0.407</td>\n",
       "      <td>26</td>\n",
       "      <td>1</td>\n",
       "    </tr>\n",
       "    <tr>\n",
       "      <th>1</th>\n",
       "      <td>ICU200610</td>\n",
       "      <td>1</td>\n",
       "      <td>108</td>\n",
       "      <td>88</td>\n",
       "      <td>19</td>\n",
       "      <td>0</td>\n",
       "      <td>27.1</td>\n",
       "      <td>0.400</td>\n",
       "      <td>24</td>\n",
       "      <td>1</td>\n",
       "    </tr>\n",
       "    <tr>\n",
       "      <th>2</th>\n",
       "      <td>ICU200611</td>\n",
       "      <td>6</td>\n",
       "      <td>96</td>\n",
       "      <td>0</td>\n",
       "      <td>0</td>\n",
       "      <td>0</td>\n",
       "      <td>23.7</td>\n",
       "      <td>0.190</td>\n",
       "      <td>28</td>\n",
       "      <td>1</td>\n",
       "    </tr>\n",
       "    <tr>\n",
       "      <th>3</th>\n",
       "      <td>ICU200612</td>\n",
       "      <td>1</td>\n",
       "      <td>124</td>\n",
       "      <td>74</td>\n",
       "      <td>36</td>\n",
       "      <td>0</td>\n",
       "      <td>27.8</td>\n",
       "      <td>0.100</td>\n",
       "      <td>30</td>\n",
       "      <td>1</td>\n",
       "    </tr>\n",
       "    <tr>\n",
       "      <th>4</th>\n",
       "      <td>ICU200613</td>\n",
       "      <td>7</td>\n",
       "      <td>150</td>\n",
       "      <td>78</td>\n",
       "      <td>29</td>\n",
       "      <td>126</td>\n",
       "      <td>35.2</td>\n",
       "      <td>0.692</td>\n",
       "      <td>54</td>\n",
       "      <td>0</td>\n",
       "    </tr>\n",
       "  </tbody>\n",
       "</table>\n",
       "</div>"
      ],
      "text/plain": [
       "          id  plasma_glucose  blood_work_result_1  blood_pressure  \\\n",
       "0  ICU200609               1                  109              38   \n",
       "1  ICU200610               1                  108              88   \n",
       "2  ICU200611               6                   96               0   \n",
       "3  ICU200612               1                  124              74   \n",
       "4  ICU200613               7                  150              78   \n",
       "\n",
       "   blood_work_result_2  blood_work_result_3  body_mass_index  \\\n",
       "0                   18                  120             23.1   \n",
       "1                   19                    0             27.1   \n",
       "2                    0                    0             23.7   \n",
       "3                   36                    0             27.8   \n",
       "4                   29                  126             35.2   \n",
       "\n",
       "   blood_work_result_4  Age  Insurance  \n",
       "0                0.407   26          1  \n",
       "1                0.400   24          1  \n",
       "2                0.190   28          1  \n",
       "3                0.100   30          1  \n",
       "4                0.692   54          0  "
      ]
     },
     "execution_count": 18,
     "metadata": {},
     "output_type": "execute_result"
    }
   ],
   "source": [
    "# Renaming columns name\n",
    "test.rename(columns={\"ID\": \"id\", 'PRG': 'plasma_glucose', \"PL\": \"blood_work_result_1\", \"PR\": \"blood_pressure\", \"SK\": \"blood_work_result_2\", \"TS\": \"blood_work_result_3\", \"M11\": \"body_mass_index\", \"BD2\": \"blood_work_result_4\" }, inplace=True)\n",
    "test.head()"
   ]
  },
  {
   "cell_type": "markdown",
   "id": "c9aac3bf",
   "metadata": {},
   "source": [
    "## Data Cleaning"
   ]
  },
  {
   "cell_type": "code",
   "execution_count": 19,
   "id": "259108d1",
   "metadata": {},
   "outputs": [
    {
     "data": {
      "text/plain": [
       "id                     0.0\n",
       "plasma_glucose         0.0\n",
       "blood_work_result_1    0.0\n",
       "blood_pressure         0.0\n",
       "blood_work_result_2    0.0\n",
       "blood_work_result_3    0.0\n",
       "body_mass_index        0.0\n",
       "blood_work_result_4    0.0\n",
       "Age                    0.0\n",
       "Insurance              0.0\n",
       "Sepssis                0.0\n",
       "dtype: float64"
      ]
     },
     "execution_count": 19,
     "metadata": {},
     "output_type": "execute_result"
    }
   ],
   "source": [
    "# Checking duplication\n",
    "train[train.duplicated()].sum()"
   ]
  },
  {
   "cell_type": "markdown",
   "id": "5a4980dc",
   "metadata": {},
   "source": [
    "## Explanatory Data Analysis"
   ]
  },
  {
   "cell_type": "markdown",
   "id": "097a2784",
   "metadata": {},
   "source": [
    "<b>Sepsis</b> is the body’s overwhelming and life-threatening response to an infection. It occurs when the immune system releases a large number of chemicals into the blood to fight the infection, triggering widespread inflammation that can lead to organ damage. Sepsis is considered a medical emergency and requires rapid diagnosis and treatment."
   ]
  },
  {
   "cell_type": "markdown",
   "id": "f27bcccd",
   "metadata": {},
   "source": [
    "### How many peoples used for this data?"
   ]
  },
  {
   "cell_type": "code",
   "execution_count": 20,
   "id": "2d1df151",
   "metadata": {},
   "outputs": [
    {
     "name": "stdout",
     "output_type": "stream",
     "text": [
      "There are 599 peoples used in this data\n"
     ]
    }
   ],
   "source": [
    "amount = train.shape[0]\n",
    "print(f\"There are {amount} peoples used in this data\")"
   ]
  },
  {
   "cell_type": "code",
   "execution_count": 21,
   "id": "603e6736",
   "metadata": {},
   "outputs": [],
   "source": [
    "train[\"body_mass_index\"] = train[\"body_mass_index\"].astype(float)"
   ]
  },
  {
   "cell_type": "markdown",
   "id": "82ab1822",
   "metadata": {},
   "source": [
    "### Peoples optimal weight status?"
   ]
  },
  {
   "cell_type": "code",
   "execution_count": 22,
   "id": "af60f396",
   "metadata": {},
   "outputs": [],
   "source": [
    "normal = train[(train[\"body_mass_index\"] > 18.5) & (train[\"body_mass_index\"] < 24.5) ].id.count()\n",
    "over_weight = train[ train[\"body_mass_index\"] < 24.5].id.count()\n",
    "under_weight = train[ train[\"body_mass_index\"] < 18.5].id.count()"
   ]
  },
  {
   "cell_type": "code",
   "execution_count": 23,
   "id": "d663b160",
   "metadata": {},
   "outputs": [
    {
     "data": {
      "image/png": "[encoded data removed]",
      "text/plain": [
       "<Figure size 432x288 with 1 Axes>"
      ]
     },
     "metadata": {},
     "output_type": "display_data"
    }
   ],
   "source": [
    "data = [normal, under_weight, over_weight]\n",
    "labels = ['Normal Weight', 'Under Weight 2', 'Over Weight']\n",
    "\n",
    "# Define Seaborn color palette to use\n",
    "colors = sns.color_palette('pastel')[:5]\n",
    "\n",
    "# Create pie chart\n",
    "plt.pie(data, labels=labels, colors=colors, autopct='%.0f%%')\n",
    "\n",
    "# Display the chart\n",
    "plt.show()\n"
   ]
  },
  {
   "cell_type": "markdown",
   "id": "fdf18772",
   "metadata": {},
   "source": [
    "#### The data shows that most of the peoples are over weighted by covering 50% from the whole. It is good to have 42% as normal weight. Now lets see what is the range on obesity is occuring."
   ]
  },
  {
   "cell_type": "code",
   "execution_count": 24,
   "id": "dee16afd",
   "metadata": {},
   "outputs": [],
   "source": [
    "over_weight = train[ train[\"body_mass_index\"] < 24.5]"
   ]
  },
  {
   "cell_type": "code",
   "execution_count": 25,
   "id": "53273233",
   "metadata": {},
   "outputs": [
    {
     "data": {
      "image/png": "[encoded data removed]",
      "text/plain": [
       "<Figure size 432x288 with 1 Axes>"
      ]
     },
     "metadata": {
      "needs_background": "light"
     },
     "output_type": "display_data"
    }
   ],
   "source": [
    "# Load example dataset\n",
    "tips = sns.load_dataset(\"tips\")\n",
    "\n",
    "# Create countplot for one column\n",
    "sns.countplot(x=\"Age\", data=over_weight)\n",
    "\n",
    "plt.xticks(rotation=90)\n",
    "plt.show()\n"
   ]
  },
  {
   "cell_type": "markdown",
   "id": "57eb3668",
   "metadata": {},
   "source": [
    "#### The chart show us that young peoples are suffered to obesity. Age ranging from 21 to 27 are highly affected."
   ]
  },
  {
   "cell_type": "markdown",
   "id": "4fe2e939",
   "metadata": {},
   "source": [
    "## Blood Result"
   ]
  },
  {
   "cell_type": "code",
   "execution_count": 26,
   "id": "9d603353",
   "metadata": {},
   "outputs": [],
   "source": [
    "under_weight = train[ train[\"body_mass_index\"] < 18.5].id.count()"
   ]
  },
  {
   "cell_type": "code",
   "execution_count": 27,
   "id": "13192735",
   "metadata": {},
   "outputs": [
    {
     "data": {
      "image/png": "[encoded data removed]",
      "text/plain": [
       "<Figure size 432x288 with 1 Axes>"
      ]
     },
     "metadata": {
      "needs_background": "light"
     },
     "output_type": "display_data"
    }
   ],
   "source": [
    "# Create DataFrame\n",
    "df = train[[\"id\", \"blood_work_result_1\", \"blood_work_result_2\"] ]\n",
    "\n",
    "# Reshape DataFrame from wide to long format\n",
    "df_long = df.melt(id_vars='id', var_name='Record', value_name='vals')\n",
    "\n",
    "# Plot multiple columns on the same graph\n",
    "sns.lineplot(data=df_long, x='id', y='vals', hue='Record')\n",
    "\n",
    "plt.xlabel(\"Blood Result\")\n",
    "plt.ylabel(\"Amount\")\n",
    "\n",
    "# Display the plot\n",
    "plt.show()\n"
   ]
  },
  {
   "cell_type": "code",
   "execution_count": 28,
   "id": "9eb1c254",
   "metadata": {},
   "outputs": [
    {
     "data": {
      "image/png": "[encoded data removed]",
      "text/plain": [
       "<Figure size 432x288 with 1 Axes>"
      ]
     },
     "metadata": {
      "needs_background": "light"
     },
     "output_type": "display_data"
    }
   ],
   "source": [
    "df = pd.DataFrame(data=train, columns=['blood_work_result_1','blood_work_result_2'])\n",
    "\n",
    "sns.boxplot(data=df, orient='h')\n",
    "\n",
    "# Show the plot\n",
    "plt.show()"
   ]
  },
  {
   "cell_type": "markdown",
   "id": "2f4e39a3",
   "metadata": {},
   "source": [
    "#### Blood work result at first was ranging between 50 to 200. On the next result it ranges 0 to 60. This shows unstability between the blood work. So we can't give high dependency on blood to state good findings. The last two blood works are highly affected  to one side. "
   ]
  },
  {
   "cell_type": "markdown",
   "id": "51c3da15",
   "metadata": {},
   "source": [
    "### Unstable Results"
   ]
  },
  {
   "cell_type": "code",
   "execution_count": 29,
   "id": "860e0136",
   "metadata": {},
   "outputs": [
    {
     "data": {
      "image/png": "[encoded data removed]",
      "text/plain": [
       "<Figure size 432x288 with 1 Axes>"
      ]
     },
     "metadata": {
      "needs_background": "light"
     },
     "output_type": "display_data"
    }
   ],
   "source": [
    "# Create DataFrame\n",
    "df = train[[\"id\", \"blood_work_result_3\"] ]\n",
    "\n",
    "# Reshape DataFrame from wide to long format\n",
    "df_long = df.melt(id_vars='id', var_name='Record', value_name='vals')\n",
    "\n",
    "# Plot multiple columns on the same graph\n",
    "sns.lineplot(data=df_long, x='id', y='vals', hue='Record')\n",
    "\n",
    "plt.xlabel(\"Blood Result\")\n",
    "plt.ylabel(\"Amount\")\n",
    "\n",
    "# Display the plot\n",
    "plt.show()"
   ]
  },
  {
   "cell_type": "code",
   "execution_count": 30,
   "id": "30e91119",
   "metadata": {},
   "outputs": [
    {
     "data": {
      "image/png": "[encoded data removed]",
      "text/plain": [
       "<Figure size 432x288 with 1 Axes>"
      ]
     },
     "metadata": {
      "needs_background": "light"
     },
     "output_type": "display_data"
    }
   ],
   "source": [
    "# Create DataFrame\n",
    "df = train[[\"id\", \"blood_work_result_4\"] ]\n",
    "\n",
    "# Reshape DataFrame from wide to long format\n",
    "df_long = df.melt(id_vars='id', var_name='cols', value_name='vals')\n",
    "\n",
    "# Plot multiple columns on the same graph\n",
    "sns.lineplot(data=df_long, x='id', y='vals', hue='cols')\n",
    "\n",
    "plt.xlabel(\"Blood Result\")\n",
    "plt.ylabel(\"Amount\")\n",
    "\n",
    "# Display the plot\n",
    "plt.show()"
   ]
  },
  {
   "cell_type": "markdown",
   "id": "95398019",
   "metadata": {},
   "source": [
    "### Insurance"
   ]
  },
  {
   "cell_type": "code",
   "execution_count": 31,
   "id": "5b267ae5",
   "metadata": {},
   "outputs": [],
   "source": [
    "has_insurance = train[ train[\"Insurance\"] ==  1][\"id\"].count()\n",
    "no_insurance = train[ train[\"Insurance\"] ==  0][\"id\"].count()"
   ]
  },
  {
   "cell_type": "code",
   "execution_count": 32,
   "id": "5fe07d39",
   "metadata": {},
   "outputs": [
    {
     "data": {
      "image/png": "[encoded data removed]",
      "text/plain": [
       "<Figure size 432x288 with 1 Axes>"
      ]
     },
     "metadata": {},
     "output_type": "display_data"
    }
   ],
   "source": [
    "data = [has_insurance, no_insurance]\n",
    "labels = ['Insurance Coverage', \"No Insurance\"]\n",
    "\n",
    "# Define Seaborn color palette to use\n",
    "colors = sns.color_palette('pastel')[:5]\n",
    "\n",
    "# Create pie chart\n",
    "plt.pie(data, labels=labels, colors=colors, autopct='%.0f%%')\n",
    "\n",
    "# Display the chart\n",
    "plt.show()"
   ]
  },
  {
   "cell_type": "markdown",
   "id": "670123b9",
   "metadata": {},
   "source": [
    "#### More than half of the people are under an insurance cover. This shows there is insurance accessibility."
   ]
  },
  {
   "cell_type": "markdown",
   "id": "bf9e6249",
   "metadata": {},
   "source": [
    "## Hypothesis Testing"
   ]
  },
  {
   "cell_type": "markdown",
   "id": "96d63a1a",
   "metadata": {},
   "source": [
    "<b>Null Hypothesis</b> : There is no significant relation between age and BMI\n",
    "\n",
    "<b>Alternative Hypothesis</b> : There is a significant relationship between age and BMI"
   ]
  },
  {
   "cell_type": "code",
   "execution_count": 33,
   "id": "c7119615",
   "metadata": {},
   "outputs": [],
   "source": [
    "age = train.Age\n",
    "bmi = train.body_mass_index"
   ]
  },
  {
   "cell_type": "code",
   "execution_count": 34,
   "id": "84b8344d",
   "metadata": {},
   "outputs": [
    {
     "data": {
      "image/png": "[encoded data removed]",
      "text/plain": [
       "<Figure size 432x288 with 1 Axes>"
      ]
     },
     "metadata": {
      "needs_background": "light"
     },
     "output_type": "display_data"
    }
   ],
   "source": [
    "plt.scatter(age, bmi) \n",
    "plt.xlabel(\"Age\") \n",
    "plt.ylabel(\"BMI\") \n",
    "plt.title(\"Age vs BMI\") \n",
    "plt.show()"
   ]
  },
  {
   "cell_type": "markdown",
   "id": "fe98d9d7",
   "metadata": {},
   "source": [
    "## Linear regression hypothesis testing"
   ]
  },
  {
   "cell_type": "code",
   "execution_count": 39,
   "id": "a5d84588",
   "metadata": {},
   "outputs": [],
   "source": [
    "import statsmodels.api as sm"
   ]
  },
  {
   "cell_type": "code",
   "execution_count": 40,
   "id": "fdc3003f",
   "metadata": {},
   "outputs": [
    {
     "name": "stdout",
     "output_type": "stream",
     "text": [
      "                            OLS Regression Results                            \n",
      "==============================================================================\n",
      "Dep. Variable:        body_mass_index   R-squared:                       0.002\n",
      "Model:                            OLS   Adj. R-squared:                  0.000\n",
      "Method:                 Least Squares   F-statistic:                     1.272\n",
      "Date:                Fri, 29 Sep 2023   Prob (F-statistic):              0.260\n",
      "Time:                        15:17:13   Log-Likelihood:                -2095.0\n",
      "No. Observations:                 599   AIC:                             4194.\n",
      "Df Residuals:                     597   BIC:                             4203.\n",
      "Df Model:                           1                                         \n",
      "Covariance Type:            nonrobust                                         \n",
      "==============================================================================\n",
      "                 coef    std err          t      P>|t|      [0.025      0.975]\n",
      "------------------------------------------------------------------------------\n",
      "const         30.8806      0.978     31.581      0.000      28.960      32.801\n",
      "Age            0.0312      0.028      1.128      0.260      -0.023       0.086\n",
      "==============================================================================\n",
      "Omnibus:                       63.696   Durbin-Watson:                   1.946\n",
      "Prob(Omnibus):                  0.000   Jarque-Bera (JB):              267.017\n",
      "Skew:                          -0.377   Prob(JB):                     1.04e-58\n",
      "Kurtosis:                       6.183   Cond. No.                         106.\n",
      "==============================================================================\n",
      "\n",
      "Notes:\n",
      "[1] Standard Errors assume that the covariance matrix of the errors is correctly specified.\n"
     ]
    }
   ],
   "source": [
    "X = sm.add_constant(age) \n",
    "y = bmi \n",
    "model = sm.OLS(y, X) \n",
    "results = model.fit()\n",
    "print(results.summary())"
   ]
  },
  {
   "cell_type": "markdown",
   "id": "2de1ac4e",
   "metadata": {},
   "source": [
    "<b>INSIGHT</b>\n",
    "\n",
    "The p-value for the slope coefficient is 0.000, which is less than 0.05 (the significance level). Therefore, we reject the null hypothesis and conclude that there is a significant relationship between age and BMI."
   ]
  },
  {
   "cell_type": "markdown",
   "id": "dffc0700",
   "metadata": {},
   "source": [
    "## Checking for outliers"
   ]
  },
  {
   "cell_type": "code",
   "execution_count": 41,
   "id": "f8d2e56b",
   "metadata": {},
   "outputs": [
    {
     "data": {
      "text/plain": [
       "<seaborn.axisgrid.FacetGrid at 0x2223d1dad70>"
      ]
     },
     "execution_count": 41,
     "metadata": {},
     "output_type": "execute_result"
    },
    {
     "data": {
      "image/png": "[encoded data removed]",
      "text/plain": [
       "<Figure size 1440x360 with 4 Axes>"
      ]
     },
     "metadata": {
      "needs_background": "light"
     },
     "output_type": "display_data"
    },
    {
     "name": "stderr",
     "output_type": "stream",
     "text": [
      "\n",
      "[notice] A new release of pip is available: 23.2 -> 23.2.1\n",
      "[notice] To update, run: python.exe -m pip install --upgrade pip\n"
     ]
    },
    {
     "name": "stdout",
     "output_type": "stream",
     "text": [
      "Collecting statsmodels\n",
      "  Using cached statsmodels-0.14.0-cp310-cp310-win_amd64.whl (9.2 MB)\n",
      "Requirement already satisfied: numpy>=1.18 in c:\\users\\wycliffe\\appdata\\local\\programs\\python\\python310\\lib\\site-packages (from statsmodels) (1.23.1)\n",
      "Requirement already satisfied: scipy!=1.9.2,>=1.4 in c:\\users\\wycliffe\\appdata\\local\\programs\\python\\python310\\lib\\site-packages (from statsmodels) (1.8.1)\n",
      "Requirement already satisfied: pandas>=1.0 in c:\\users\\wycliffe\\appdata\\local\\programs\\python\\python310\\lib\\site-packages (from statsmodels) (1.4.3)\n",
      "Collecting patsy>=0.5.2 (from statsmodels)\n",
      "  Using cached patsy-0.5.3-py2.py3-none-any.whl (233 kB)\n",
      "Requirement already satisfied: packaging>=21.3 in c:\\users\\wycliffe\\appdata\\local\\programs\\python\\python310\\lib\\site-packages (from statsmodels) (23.1)\n",
      "Requirement already satisfied: python-dateutil>=2.8.1 in c:\\users\\wycliffe\\appdata\\local\\programs\\python\\python310\\lib\\site-packages (from pandas>=1.0->statsmodels) (2.8.2)\n",
      "Requirement already satisfied: pytz>=2020.1 in c:\\users\\wycliffe\\appdata\\local\\programs\\python\\python310\\lib\\site-packages (from pandas>=1.0->statsmodels) (2022.1)\n",
      "Requirement already satisfied: six in c:\\users\\wycliffe\\appdata\\local\\programs\\python\\python310\\lib\\site-packages (from patsy>=0.5.2->statsmodels) (1.16.0)\n",
      "Installing collected packages: patsy, statsmodels\n",
      "Successfully installed patsy-0.5.3 statsmodels-0.14.0\n"
     ]
    }
   ],
   "source": [
    "df = train[[\"blood_work_result_1\", \"blood_work_result_2\", \"blood_work_result_3\", \"blood_work_result_4\"]]\n",
    "\n",
    "df = df.melt(var_name='variable', value_name='value')\n",
    "\n",
    "sns.catplot (kind=\"box\", data=df, col=\"variable\", sharey=False)"
   ]
  },
  {
   "cell_type": "markdown",
   "id": "3caf5777",
   "metadata": {},
   "source": [
    "### From the four blood work results the last two have outliers. We can correct this by using mean."
   ]
  },
  {
   "cell_type": "code",
   "execution_count": 42,
   "id": "c3f04c15",
   "metadata": {},
   "outputs": [],
   "source": [
    "# Define a function to detect outliers using the z-score method\n",
    "def is_outlier(x):\n",
    "    # Calculate the z-score of x\n",
    "    z = (x - mean) / std\n",
    "    # Return True if x is more than 3 standard deviations away from the mean\n",
    "    return abs(z) > 3"
   ]
  },
  {
   "cell_type": "markdown",
   "id": "c93d0391",
   "metadata": {},
   "source": [
    "#### Correcting third result"
   ]
  },
  {
   "cell_type": "code",
   "execution_count": 43,
   "id": "e2bfb470",
   "metadata": {},
   "outputs": [],
   "source": [
    "# Create a sample dataframe with one column\n",
    "df[\"blood_work_result_3\"] = train[\"blood_work_result_3\"]\n",
    "\n",
    "# Calculate the mean and standard deviation of the column \n",
    "mean = df[\"blood_work_result_3\"].mean()\n",
    "std = df[\"blood_work_result_3\"].std()"
   ]
  },
  {
   "cell_type": "code",
   "execution_count": 44,
   "id": "6b9b2a83",
   "metadata": {},
   "outputs": [
    {
     "data": {
      "text/plain": [
       "Int64Index([8, 13, 111, 153, 186, 220, 228, 247, 286, 370, 409, 415, 486, 584], dtype='int64')"
      ]
     },
     "execution_count": 44,
     "metadata": {},
     "output_type": "execute_result"
    }
   ],
   "source": [
    "outliers = df[is_outlier(df[\"blood_work_result_3\"])].blood_work_result_3\n",
    "outliers.index"
   ]
  },
  {
   "cell_type": "code",
   "execution_count": 45,
   "id": "74b9a39b",
   "metadata": {},
   "outputs": [],
   "source": [
    "index = [8, 13, 111, 153, 186, 220, 228, 247, 286, 370, 409, 415, 486, 584]\n",
    "\n",
    "# Use loc() to change the column records using the indexes\n",
    "train.loc[index, 'blood_work_result_3'] = mean"
   ]
  },
  {
   "cell_type": "code",
   "execution_count": 46,
   "id": "6ad03b1f",
   "metadata": {},
   "outputs": [],
   "source": [
    "for i in outliers.index:\n",
    "    train.loc[i, \"blood_work_result_3\"] = mean"
   ]
  },
  {
   "cell_type": "markdown",
   "id": "4de5bf47",
   "metadata": {},
   "source": [
    "#### Correcting fourth result"
   ]
  },
  {
   "cell_type": "code",
   "execution_count": 47,
   "id": "9242cf76",
   "metadata": {},
   "outputs": [],
   "source": [
    "# Create a sample dataframe with one column\n",
    "df[\"blood_work_result_4\"] = train[\"blood_work_result_4\"]\n",
    "\n",
    "# Calculate the mean and standard deviation of the column \n",
    "mean = df[\"blood_work_result_4\"].mean()\n",
    "std = df[\"blood_work_result_4\"].std()"
   ]
  },
  {
   "cell_type": "code",
   "execution_count": 48,
   "id": "56b2ce7b",
   "metadata": {},
   "outputs": [
    {
     "data": {
      "text/plain": [
       "Int64Index([4, 45, 58, 228, 370, 371, 395, 445, 593], dtype='int64')"
      ]
     },
     "execution_count": 48,
     "metadata": {},
     "output_type": "execute_result"
    }
   ],
   "source": [
    "outliers = df[is_outlier(df[\"blood_work_result_4\"])].blood_work_result_4\n",
    "outliers.index"
   ]
  },
  {
   "cell_type": "code",
   "execution_count": 49,
   "id": "cabe61f3",
   "metadata": {},
   "outputs": [],
   "source": [
    "index = [4, 12, 45, 58, 330, 371, 395, 445, 593]\n",
    "\n",
    "# Use loc() to change the column records using the indexes\n",
    "train.loc[index, 'blood_work_result_4'] = mean"
   ]
  },
  {
   "cell_type": "code",
   "execution_count": 50,
   "id": "fe885bf9",
   "metadata": {},
   "outputs": [],
   "source": [
    "for i in outliers.index:\n",
    "    train.loc[i, \"blood_work_result_4\"] = mean"
   ]
  },
  {
   "cell_type": "code",
   "execution_count": 51,
   "id": "59180728",
   "metadata": {},
   "outputs": [
    {
     "data": {
      "text/plain": [
       "<seaborn.axisgrid.FacetGrid at 0x2223efdcee0>"
      ]
     },
     "execution_count": 51,
     "metadata": {},
     "output_type": "execute_result"
    },
    {
     "data": {
      "image/png": "[encoded data removed]",
      "text/plain": [
       "<Figure size 1440x360 with 4 Axes>"
      ]
     },
     "metadata": {
      "needs_background": "light"
     },
     "output_type": "display_data"
    }
   ],
   "source": [
    "df = train[[\"blood_work_result_1\", \"blood_work_result_2\", \"blood_work_result_3\", \"blood_work_result_4\"]]\n",
    "\n",
    "df = df.melt(var_name='variable', value_name='value')\n",
    "\n",
    "sns.catplot (kind=\"box\", data=df, col=\"variable\", sharey=False)"
   ]
  },
  {
   "cell_type": "markdown",
   "id": "4d8fb038",
   "metadata": {},
   "source": [
    "## Bivariate and Multivariate analysis"
   ]
  },
  {
   "cell_type": "markdown",
   "id": "3cd56f19",
   "metadata": {},
   "source": [
    "### Bivariate Analysis"
   ]
  },
  {
   "cell_type": "code",
   "execution_count": 52,
   "id": "f36a5a20",
   "metadata": {},
   "outputs": [
    {
     "data": {
      "text/plain": [
       "Age\n",
       "21    0.673077\n",
       "22    0.634615\n",
       "23    0.555556\n",
       "24    0.675676\n",
       "25    0.700000\n",
       "26    0.680000\n",
       "27    0.666667\n",
       "28    0.769231\n",
       "29    0.703704\n",
       "30    0.687500\n",
       "31    0.684211\n",
       "32    0.692308\n",
       "33    0.800000\n",
       "34    0.444444\n",
       "35    0.500000\n",
       "36    0.846154\n",
       "37    0.444444\n",
       "38    0.692308\n",
       "39    0.700000\n",
       "40    0.875000\n",
       "41    0.800000\n",
       "42    0.923077\n",
       "43    0.625000\n",
       "44    0.571429\n",
       "45    0.625000\n",
       "46    0.727273\n",
       "47    0.750000\n",
       "48    0.666667\n",
       "49    0.666667\n",
       "50    0.750000\n",
       "51    0.714286\n",
       "52    0.400000\n",
       "53    1.000000\n",
       "54    1.000000\n",
       "55    0.750000\n",
       "56    0.500000\n",
       "57    0.600000\n",
       "58    1.000000\n",
       "59    0.333333\n",
       "60    0.800000\n",
       "61    1.000000\n",
       "62    0.750000\n",
       "63    0.666667\n",
       "64    1.000000\n",
       "65    0.333333\n",
       "66    0.666667\n",
       "67    1.000000\n",
       "69    0.000000\n",
       "72    1.000000\n",
       "81    1.000000\n",
       "Name: Insurance, dtype: float64"
      ]
     },
     "execution_count": 52,
     "metadata": {},
     "output_type": "execute_result"
    }
   ],
   "source": [
    "age_by_insurance = train.groupby('Age').mean()[\"Insurance\"]\n",
    "age_by_insurance"
   ]
  },
  {
   "cell_type": "code",
   "execution_count": 53,
   "id": "e31cfc3b",
   "metadata": {},
   "outputs": [
    {
     "data": {
      "text/plain": [
       "<AxesSubplot:xlabel='Age'>"
      ]
     },
     "execution_count": 53,
     "metadata": {},
     "output_type": "execute_result"
    },
    {
     "data": {
      "image/png": "[encoded data removed]",
      "text/plain": [
       "<Figure size 432x288 with 1 Axes>"
      ]
     },
     "metadata": {
      "needs_background": "light"
     },
     "output_type": "display_data"
    }
   ],
   "source": [
    "sns.scatterplot(x=age_by_insurance.index, y=age_by_insurance.values)"
   ]
  },
  {
   "cell_type": "code",
   "execution_count": 54,
   "id": "9426d2f8",
   "metadata": {},
   "outputs": [
    {
     "data": {
      "text/html": [
       "<div>\n",
       "<style scoped>\n",
       "    .dataframe tbody tr th:only-of-type {\n",
       "        vertical-align: middle;\n",
       "    }\n",
       "\n",
       "    .dataframe tbody tr th {\n",
       "        vertical-align: top;\n",
       "    }\n",
       "\n",
       "    .dataframe thead th {\n",
       "        text-align: right;\n",
       "    }\n",
       "</style>\n",
       "<table border=\"1\" class=\"dataframe\">\n",
       "  <thead>\n",
       "    <tr style=\"text-align: right;\">\n",
       "      <th></th>\n",
       "      <th>id</th>\n",
       "      <th>plasma_glucose</th>\n",
       "      <th>blood_work_result_1</th>\n",
       "      <th>blood_pressure</th>\n",
       "      <th>blood_work_result_2</th>\n",
       "      <th>blood_work_result_3</th>\n",
       "      <th>body_mass_index</th>\n",
       "      <th>blood_work_result_4</th>\n",
       "      <th>Age</th>\n",
       "      <th>Insurance</th>\n",
       "      <th>Sepssis</th>\n",
       "    </tr>\n",
       "  </thead>\n",
       "  <tbody>\n",
       "    <tr>\n",
       "      <th>0</th>\n",
       "      <td>ICU200010</td>\n",
       "      <td>6</td>\n",
       "      <td>148</td>\n",
       "      <td>72</td>\n",
       "      <td>35</td>\n",
       "      <td>0.0</td>\n",
       "      <td>33.6</td>\n",
       "      <td>0.627000</td>\n",
       "      <td>50</td>\n",
       "      <td>0</td>\n",
       "      <td>Positive</td>\n",
       "    </tr>\n",
       "    <tr>\n",
       "      <th>1</th>\n",
       "      <td>ICU200011</td>\n",
       "      <td>1</td>\n",
       "      <td>85</td>\n",
       "      <td>66</td>\n",
       "      <td>29</td>\n",
       "      <td>0.0</td>\n",
       "      <td>26.6</td>\n",
       "      <td>0.351000</td>\n",
       "      <td>31</td>\n",
       "      <td>0</td>\n",
       "      <td>Negative</td>\n",
       "    </tr>\n",
       "    <tr>\n",
       "      <th>2</th>\n",
       "      <td>ICU200012</td>\n",
       "      <td>8</td>\n",
       "      <td>183</td>\n",
       "      <td>64</td>\n",
       "      <td>0</td>\n",
       "      <td>0.0</td>\n",
       "      <td>23.3</td>\n",
       "      <td>0.672000</td>\n",
       "      <td>32</td>\n",
       "      <td>1</td>\n",
       "      <td>Positive</td>\n",
       "    </tr>\n",
       "    <tr>\n",
       "      <th>3</th>\n",
       "      <td>ICU200013</td>\n",
       "      <td>1</td>\n",
       "      <td>89</td>\n",
       "      <td>66</td>\n",
       "      <td>23</td>\n",
       "      <td>94.0</td>\n",
       "      <td>28.1</td>\n",
       "      <td>0.167000</td>\n",
       "      <td>21</td>\n",
       "      <td>1</td>\n",
       "      <td>Negative</td>\n",
       "    </tr>\n",
       "    <tr>\n",
       "      <th>4</th>\n",
       "      <td>ICU200014</td>\n",
       "      <td>0</td>\n",
       "      <td>137</td>\n",
       "      <td>40</td>\n",
       "      <td>35</td>\n",
       "      <td>168.0</td>\n",
       "      <td>43.1</td>\n",
       "      <td>0.481187</td>\n",
       "      <td>33</td>\n",
       "      <td>1</td>\n",
       "      <td>Positive</td>\n",
       "    </tr>\n",
       "    <tr>\n",
       "      <th>...</th>\n",
       "      <td>...</td>\n",
       "      <td>...</td>\n",
       "      <td>...</td>\n",
       "      <td>...</td>\n",
       "      <td>...</td>\n",
       "      <td>...</td>\n",
       "      <td>...</td>\n",
       "      <td>...</td>\n",
       "      <td>...</td>\n",
       "      <td>...</td>\n",
       "      <td>...</td>\n",
       "    </tr>\n",
       "    <tr>\n",
       "      <th>594</th>\n",
       "      <td>ICU200604</td>\n",
       "      <td>6</td>\n",
       "      <td>123</td>\n",
       "      <td>72</td>\n",
       "      <td>45</td>\n",
       "      <td>230.0</td>\n",
       "      <td>33.6</td>\n",
       "      <td>0.733000</td>\n",
       "      <td>34</td>\n",
       "      <td>0</td>\n",
       "      <td>Negative</td>\n",
       "    </tr>\n",
       "    <tr>\n",
       "      <th>595</th>\n",
       "      <td>ICU200605</td>\n",
       "      <td>0</td>\n",
       "      <td>188</td>\n",
       "      <td>82</td>\n",
       "      <td>14</td>\n",
       "      <td>185.0</td>\n",
       "      <td>32.0</td>\n",
       "      <td>0.682000</td>\n",
       "      <td>22</td>\n",
       "      <td>1</td>\n",
       "      <td>Positive</td>\n",
       "    </tr>\n",
       "    <tr>\n",
       "      <th>596</th>\n",
       "      <td>ICU200606</td>\n",
       "      <td>0</td>\n",
       "      <td>67</td>\n",
       "      <td>76</td>\n",
       "      <td>0</td>\n",
       "      <td>0.0</td>\n",
       "      <td>45.3</td>\n",
       "      <td>0.194000</td>\n",
       "      <td>46</td>\n",
       "      <td>1</td>\n",
       "      <td>Negative</td>\n",
       "    </tr>\n",
       "    <tr>\n",
       "      <th>597</th>\n",
       "      <td>ICU200607</td>\n",
       "      <td>1</td>\n",
       "      <td>89</td>\n",
       "      <td>24</td>\n",
       "      <td>19</td>\n",
       "      <td>25.0</td>\n",
       "      <td>27.8</td>\n",
       "      <td>0.559000</td>\n",
       "      <td>21</td>\n",
       "      <td>0</td>\n",
       "      <td>Negative</td>\n",
       "    </tr>\n",
       "    <tr>\n",
       "      <th>598</th>\n",
       "      <td>ICU200608</td>\n",
       "      <td>1</td>\n",
       "      <td>173</td>\n",
       "      <td>74</td>\n",
       "      <td>0</td>\n",
       "      <td>0.0</td>\n",
       "      <td>36.8</td>\n",
       "      <td>0.088000</td>\n",
       "      <td>38</td>\n",
       "      <td>1</td>\n",
       "      <td>Positive</td>\n",
       "    </tr>\n",
       "  </tbody>\n",
       "</table>\n",
       "<p>599 rows × 11 columns</p>\n",
       "</div>"
      ],
      "text/plain": [
       "            id  plasma_glucose  blood_work_result_1  blood_pressure  \\\n",
       "0    ICU200010               6                  148              72   \n",
       "1    ICU200011               1                   85              66   \n",
       "2    ICU200012               8                  183              64   \n",
       "3    ICU200013               1                   89              66   \n",
       "4    ICU200014               0                  137              40   \n",
       "..         ...             ...                  ...             ...   \n",
       "594  ICU200604               6                  123              72   \n",
       "595  ICU200605               0                  188              82   \n",
       "596  ICU200606               0                   67              76   \n",
       "597  ICU200607               1                   89              24   \n",
       "598  ICU200608               1                  173              74   \n",
       "\n",
       "     blood_work_result_2  blood_work_result_3  body_mass_index  \\\n",
       "0                     35                  0.0             33.6   \n",
       "1                     29                  0.0             26.6   \n",
       "2                      0                  0.0             23.3   \n",
       "3                     23                 94.0             28.1   \n",
       "4                     35                168.0             43.1   \n",
       "..                   ...                  ...              ...   \n",
       "594                   45                230.0             33.6   \n",
       "595                   14                185.0             32.0   \n",
       "596                    0                  0.0             45.3   \n",
       "597                   19                 25.0             27.8   \n",
       "598                    0                  0.0             36.8   \n",
       "\n",
       "     blood_work_result_4  Age  Insurance   Sepssis  \n",
       "0               0.627000   50          0  Positive  \n",
       "1               0.351000   31          0  Negative  \n",
       "2               0.672000   32          1  Positive  \n",
       "3               0.167000   21          1  Negative  \n",
       "4               0.481187   33          1  Positive  \n",
       "..                   ...  ...        ...       ...  \n",
       "594             0.733000   34          0  Negative  \n",
       "595             0.682000   22          1  Positive  \n",
       "596             0.194000   46          1  Negative  \n",
       "597             0.559000   21          0  Negative  \n",
       "598             0.088000   38          1  Positive  \n",
       "\n",
       "[599 rows x 11 columns]"
      ]
     },
     "execution_count": 54,
     "metadata": {},
     "output_type": "execute_result"
    }
   ],
   "source": [
    "train"
   ]
  },
  {
   "cell_type": "code",
   "execution_count": 55,
   "id": "38711e5d",
   "metadata": {},
   "outputs": [],
   "source": [
    "df = train.copy()\n",
    "df[\"Sepssis\"] = train[\"Sepssis\"].replace({\"Positive\" :1 , \"Negative\" : 0})"
   ]
  },
  {
   "cell_type": "code",
   "execution_count": 56,
   "id": "c7002cb7",
   "metadata": {},
   "outputs": [
    {
     "data": {
      "text/plain": [
       "<AxesSubplot:xlabel='Age'>"
      ]
     },
     "execution_count": 56,
     "metadata": {},
     "output_type": "execute_result"
    },
    {
     "data": {
      "image/png": "[encoded data removed]",
      "text/plain": [
       "<Figure size 432x288 with 1 Axes>"
      ]
     },
     "metadata": {
      "needs_background": "light"
     },
     "output_type": "display_data"
    }
   ],
   "source": [
    "sns.scatterplot(x=age_by_insurance.index, y=age_by_insurance.values)"
   ]
  },
  {
   "cell_type": "markdown",
   "id": "fcc5b5cd",
   "metadata": {},
   "source": [
    "#### At ages 20 to 50, we observe that most people under insurance cover."
   ]
  },
  {
   "cell_type": "markdown",
   "id": "c7ca11a4",
   "metadata": {},
   "source": [
    "## Balancing target data"
   ]
  },
  {
   "cell_type": "code",
   "execution_count": 57,
   "id": "53f47500",
   "metadata": {},
   "outputs": [],
   "source": [
    "target_t = train.Sepssis"
   ]
  },
  {
   "cell_type": "code",
   "execution_count": 58,
   "id": "38e2dc5b",
   "metadata": {},
   "outputs": [
    {
     "data": {
      "image/png": "[encoded data removed]",
      "text/plain": [
       "<Figure size 432x288 with 1 Axes>"
      ]
     },
     "metadata": {
      "needs_background": "light"
     },
     "output_type": "display_data"
    }
   ],
   "source": [
    "a = target_t.value_counts()\n",
    "\n",
    "x = list(a.index)\n",
    "y = list(a)\n",
    "\n",
    "fig, ax = plt.subplots()    \n",
    "width = 0.75 # the width of the bars \n",
    "ind = np.arange(len(y))  # the x locations for the groups\n",
    "ax.barh(ind, y, width, color=\"blue\")\n",
    "ax.set_yticks(ind+width/2)\n",
    "ax.set_yticklabels(x, minor=False)\n",
    "for i, v in enumerate(y):\n",
    "    ax.text(v + .25, i + .25, str(v), color='blue', fontweight='bold') #add value labels into bar\n",
    "plt.title('Sepssis Occured in peoples')\n",
    "plt.ylabel('Sepssis')\n",
    "plt.xlabel('Number of People')\n",
    "plt.show()"
   ]
  },
  {
   "cell_type": "code",
   "execution_count": 59,
   "id": "b761958f",
   "metadata": {},
   "outputs": [],
   "source": [
    "train = train.drop(\"id\" , axis=1)"
   ]
  },
  {
   "cell_type": "code",
   "execution_count": 60,
   "id": "3bb2f73e",
   "metadata": {},
   "outputs": [],
   "source": [
    "mapping = {\"Positive\": 1, \"Negative\": 0}\n",
    "train[\"Sepssis\"] = train[\"Sepssis\"].replace(mapping)\n"
   ]
  },
  {
   "cell_type": "code",
   "execution_count": 61,
   "id": "f6608b47",
   "metadata": {
    "collapsed": true
   },
   "outputs": [
    {
     "data": {
      "text/html": [
       "<div>\n",
       "<style scoped>\n",
       "    .dataframe tbody tr th:only-of-type {\n",
       "        vertical-align: middle;\n",
       "    }\n",
       "\n",
       "    .dataframe tbody tr th {\n",
       "        vertical-align: top;\n",
       "    }\n",
       "\n",
       "    .dataframe thead th {\n",
       "        text-align: right;\n",
       "    }\n",
       "</style>\n",
       "<table border=\"1\" class=\"dataframe\">\n",
       "  <thead>\n",
       "    <tr style=\"text-align: right;\">\n",
       "      <th></th>\n",
       "      <th>plasma_glucose</th>\n",
       "      <th>blood_work_result_1</th>\n",
       "      <th>blood_pressure</th>\n",
       "      <th>blood_work_result_2</th>\n",
       "      <th>blood_work_result_3</th>\n",
       "      <th>body_mass_index</th>\n",
       "      <th>blood_work_result_4</th>\n",
       "      <th>Age</th>\n",
       "      <th>Insurance</th>\n",
       "      <th>Sepssis</th>\n",
       "    </tr>\n",
       "  </thead>\n",
       "  <tbody>\n",
       "    <tr>\n",
       "      <th>0</th>\n",
       "      <td>6</td>\n",
       "      <td>148</td>\n",
       "      <td>72</td>\n",
       "      <td>35</td>\n",
       "      <td>0.0</td>\n",
       "      <td>33.6</td>\n",
       "      <td>0.627000</td>\n",
       "      <td>50</td>\n",
       "      <td>0</td>\n",
       "      <td>1</td>\n",
       "    </tr>\n",
       "    <tr>\n",
       "      <th>1</th>\n",
       "      <td>1</td>\n",
       "      <td>85</td>\n",
       "      <td>66</td>\n",
       "      <td>29</td>\n",
       "      <td>0.0</td>\n",
       "      <td>26.6</td>\n",
       "      <td>0.351000</td>\n",
       "      <td>31</td>\n",
       "      <td>0</td>\n",
       "      <td>0</td>\n",
       "    </tr>\n",
       "    <tr>\n",
       "      <th>2</th>\n",
       "      <td>8</td>\n",
       "      <td>183</td>\n",
       "      <td>64</td>\n",
       "      <td>0</td>\n",
       "      <td>0.0</td>\n",
       "      <td>23.3</td>\n",
       "      <td>0.672000</td>\n",
       "      <td>32</td>\n",
       "      <td>1</td>\n",
       "      <td>1</td>\n",
       "    </tr>\n",
       "    <tr>\n",
       "      <th>3</th>\n",
       "      <td>1</td>\n",
       "      <td>89</td>\n",
       "      <td>66</td>\n",
       "      <td>23</td>\n",
       "      <td>94.0</td>\n",
       "      <td>28.1</td>\n",
       "      <td>0.167000</td>\n",
       "      <td>21</td>\n",
       "      <td>1</td>\n",
       "      <td>0</td>\n",
       "    </tr>\n",
       "    <tr>\n",
       "      <th>4</th>\n",
       "      <td>0</td>\n",
       "      <td>137</td>\n",
       "      <td>40</td>\n",
       "      <td>35</td>\n",
       "      <td>168.0</td>\n",
       "      <td>43.1</td>\n",
       "      <td>0.481187</td>\n",
       "      <td>33</td>\n",
       "      <td>1</td>\n",
       "      <td>1</td>\n",
       "    </tr>\n",
       "  </tbody>\n",
       "</table>\n",
       "</div>"
      ],
      "text/plain": [
       "   plasma_glucose  blood_work_result_1  blood_pressure  blood_work_result_2  \\\n",
       "0               6                  148              72                   35   \n",
       "1               1                   85              66                   29   \n",
       "2               8                  183              64                    0   \n",
       "3               1                   89              66                   23   \n",
       "4               0                  137              40                   35   \n",
       "\n",
       "   blood_work_result_3  body_mass_index  blood_work_result_4  Age  Insurance  \\\n",
       "0                  0.0             33.6             0.627000   50          0   \n",
       "1                  0.0             26.6             0.351000   31          0   \n",
       "2                  0.0             23.3             0.672000   32          1   \n",
       "3                 94.0             28.1             0.167000   21          1   \n",
       "4                168.0             43.1             0.481187   33          1   \n",
       "\n",
       "   Sepssis  \n",
       "0        1  \n",
       "1        0  \n",
       "2        1  \n",
       "3        0  \n",
       "4        1  "
      ]
     },
     "execution_count": 61,
     "metadata": {},
     "output_type": "execute_result"
    }
   ],
   "source": [
    "train.head()"
   ]
  },
  {
   "cell_type": "code",
   "execution_count": 62,
   "id": "155c4fca",
   "metadata": {},
   "outputs": [],
   "source": [
    "x = train.drop(\"Sepssis\" , axis = 1)\n",
    "y = train.Sepssis"
   ]
  },
  {
   "cell_type": "code",
   "execution_count": 63,
   "id": "5237c468",
   "metadata": {},
   "outputs": [],
   "source": [
    "nm = SMOTE(random_state = 43)"
   ]
  },
  {
   "cell_type": "code",
   "execution_count": 64,
   "id": "3d0d31b5",
   "metadata": {},
   "outputs": [],
   "source": [
    "data_balanced_t , target_balanced_t = nm.fit_resample(x , y)"
   ]
  },
  {
   "cell_type": "code",
   "execution_count": 65,
   "id": "1ce27a48",
   "metadata": {},
   "outputs": [
    {
     "data": {
      "text/plain": [
       "1    391\n",
       "0    391\n",
       "Name: Sepssis, dtype: int64"
      ]
     },
     "execution_count": 65,
     "metadata": {},
     "output_type": "execute_result"
    }
   ],
   "source": [
    "target_balanced_t.value_counts()"
   ]
  },
  {
   "cell_type": "markdown",
   "id": "d1ae4b2b",
   "metadata": {},
   "source": [
    "## Machine Learning\n"
   ]
  },
  {
   "cell_type": "code",
   "execution_count": 66,
   "id": "af6965cf",
   "metadata": {},
   "outputs": [],
   "source": [
    "# splitting data\n",
    "data_train, data_test, target_train, target_test = train_test_split(\n",
    "    data_balanced_t, target_balanced_t, random_state=42 \n",
    ")"
   ]
  },
  {
   "cell_type": "code",
   "execution_count": 67,
   "id": "6ef7b392",
   "metadata": {},
   "outputs": [],
   "source": [
    "model_trained = [] "
   ]
  },
  {
   "cell_type": "markdown",
   "id": "4f75d174",
   "metadata": {},
   "source": [
    "## logistic Regression"
   ]
  },
  {
   "cell_type": "code",
   "execution_count": 68,
   "id": "9a7bc3df",
   "metadata": {},
   "outputs": [],
   "source": [
    "log = LogisticRegression()"
   ]
  },
  {
   "cell_type": "code",
   "execution_count": 69,
   "id": "6ec40178",
   "metadata": {},
   "outputs": [
    {
     "data": {
      "text/html": [
       "<style>#sk-container-id-1 {color: black;background-color: white;}#sk-container-id-1 pre{padding: 0;}#sk-container-id-1 div.sk-toggleable {background-color: white;}#sk-container-id-1 label.sk-toggleable__label {cursor: pointer;display: block;width: 100%;margin-bottom: 0;padding: 0.3em;box-sizing: border-box;text-align: center;}#sk-container-id-1 label.sk-toggleable__label-arrow:before {content: \"▸\";float: left;margin-right: 0.25em;color: #696969;}#sk-container-id-1 label.sk-toggleable__label-arrow:hover:before {color: black;}#sk-container-id-1 div.sk-estimator:hover label.sk-toggleable__label-arrow:before {color: black;}#sk-container-id-1 div.sk-toggleable__content {max-height: 0;max-width: 0;overflow: hidden;text-align: left;background-color: #f0f8ff;}#sk-container-id-1 div.sk-toggleable__content pre {margin: 0.2em;color: black;border-radius: 0.25em;background-color: #f0f8ff;}#sk-container-id-1 input.sk-toggleable__control:checked~div.sk-toggleable__content {max-height: 200px;max-width: 100%;overflow: auto;}#sk-container-id-1 input.sk-toggleable__control:checked~label.sk-toggleable__label-arrow:before {content: \"▾\";}#sk-container-id-1 div.sk-estimator input.sk-toggleable__control:checked~label.sk-toggleable__label {background-color: #d4ebff;}#sk-container-id-1 div.sk-label input.sk-toggleable__control:checked~label.sk-toggleable__label {background-color: #d4ebff;}#sk-container-id-1 input.sk-hidden--visually {border: 0;clip: rect(1px 1px 1px 1px);clip: rect(1px, 1px, 1px, 1px);height: 1px;margin: -1px;overflow: hidden;padding: 0;position: absolute;width: 1px;}#sk-container-id-1 div.sk-estimator {font-family: monospace;background-color: #f0f8ff;border: 1px dotted black;border-radius: 0.25em;box-sizing: border-box;margin-bottom: 0.5em;}#sk-container-id-1 div.sk-estimator:hover {background-color: #d4ebff;}#sk-container-id-1 div.sk-parallel-item::after {content: \"\";width: 100%;border-bottom: 1px solid gray;flex-grow: 1;}#sk-container-id-1 div.sk-label:hover label.sk-toggleable__label {background-color: #d4ebff;}#sk-container-id-1 div.sk-serial::before {content: \"\";position: absolute;border-left: 1px solid gray;box-sizing: border-box;top: 0;bottom: 0;left: 50%;z-index: 0;}#sk-container-id-1 div.sk-serial {display: flex;flex-direction: column;align-items: center;background-color: white;padding-right: 0.2em;padding-left: 0.2em;position: relative;}#sk-container-id-1 div.sk-item {position: relative;z-index: 1;}#sk-container-id-1 div.sk-parallel {display: flex;align-items: stretch;justify-content: center;background-color: white;position: relative;}#sk-container-id-1 div.sk-item::before, #sk-container-id-1 div.sk-parallel-item::before {content: \"\";position: absolute;border-left: 1px solid gray;box-sizing: border-box;top: 0;bottom: 0;left: 50%;z-index: -1;}#sk-container-id-1 div.sk-parallel-item {display: flex;flex-direction: column;z-index: 1;position: relative;background-color: white;}#sk-container-id-1 div.sk-parallel-item:first-child::after {align-self: flex-end;width: 50%;}#sk-container-id-1 div.sk-parallel-item:last-child::after {align-self: flex-start;width: 50%;}#sk-container-id-1 div.sk-parallel-item:only-child::after {width: 0;}#sk-container-id-1 div.sk-dashed-wrapped {border: 1px dashed gray;margin: 0 0.4em 0.5em 0.4em;box-sizing: border-box;padding-bottom: 0.4em;background-color: white;}#sk-container-id-1 div.sk-label label {font-family: monospace;font-weight: bold;display: inline-block;line-height: 1.2em;}#sk-container-id-1 div.sk-label-container {text-align: center;}#sk-container-id-1 div.sk-container {/* jupyter's `normalize.less` sets `[hidden] { display: none; }` but bootstrap.min.css set `[hidden] { display: none !important; }` so we also need the `!important` here to be able to override the default hidden behavior on the sphinx rendered scikit-learn.org. See: https://github.com/scikit-learn/scikit-learn/issues/21755 */display: inline-block !important;position: relative;}#sk-container-id-1 div.sk-text-repr-fallback {display: none;}</style><div id=\"sk-container-id-1\" class=\"sk-top-container\"><div class=\"sk-text-repr-fallback\"><pre>LogisticRegression()</pre><b>In a Jupyter environment, please rerun this cell to show the HTML representation or trust the notebook. <br />On GitHub, the HTML representation is unable to render, please try loading this page with nbviewer.org.</b></div><div class=\"sk-container\" hidden><div class=\"sk-item\"><div class=\"sk-estimator sk-toggleable\"><input class=\"sk-toggleable__control sk-hidden--visually\" id=\"sk-estimator-id-1\" type=\"checkbox\" checked><label for=\"sk-estimator-id-1\" class=\"sk-toggleable__label sk-toggleable__label-arrow\">LogisticRegression</label><div class=\"sk-toggleable__content\"><pre>LogisticRegression()</pre></div></div></div></div></div>"
      ],
      "text/plain": [
       "LogisticRegression()"
      ]
     },
     "execution_count": 69,
     "metadata": {},
     "output_type": "execute_result"
    }
   ],
   "source": [
    "log.fit(data_train , target_train )"
   ]
  },
  {
   "cell_type": "code",
   "execution_count": 70,
   "id": "3c02e5bd",
   "metadata": {},
   "outputs": [],
   "source": [
    "target_predicted = log.predict(data_test)"
   ]
  },
  {
   "cell_type": "code",
   "execution_count": 71,
   "id": "c62ea0b7",
   "metadata": {},
   "outputs": [
    {
     "name": "stdout",
     "output_type": "stream",
     "text": [
      "classification report for : LogisticRegression()\n",
      "              precision    recall  f1-score   support\n",
      "\n",
      "           0       0.73      0.68      0.70        99\n",
      "           1       0.69      0.74      0.72        97\n",
      "\n",
      "    accuracy                           0.71       196\n",
      "   macro avg       0.71      0.71      0.71       196\n",
      "weighted avg       0.71      0.71      0.71       196\n",
      "\n"
     ]
    }
   ],
   "source": [
    "print(\"classification report for :\" , log.__str__())\n",
    "print(classification_report(y_true = target_test , y_pred = target_predicted ))"
   ]
  },
  {
   "cell_type": "markdown",
   "id": "cae71598",
   "metadata": {},
   "source": [
    "## GradientBoostingClassifier"
   ]
  },
  {
   "cell_type": "code",
   "execution_count": 97,
   "id": "13313bca",
   "metadata": {},
   "outputs": [],
   "source": [
    "gbc = HistGradientBoostingClassifier()"
   ]
  },
  {
   "cell_type": "code",
   "execution_count": 98,
   "id": "b663eb69",
   "metadata": {},
   "outputs": [
    {
     "data": {
      "text/html": [
       "<style>#sk-container-id-7 {color: black;background-color: white;}#sk-container-id-7 pre{padding: 0;}#sk-container-id-7 div.sk-toggleable {background-color: white;}#sk-container-id-7 label.sk-toggleable__label {cursor: pointer;display: block;width: 100%;margin-bottom: 0;padding: 0.3em;box-sizing: border-box;text-align: center;}#sk-container-id-7 label.sk-toggleable__label-arrow:before {content: \"▸\";float: left;margin-right: 0.25em;color: #696969;}#sk-container-id-7 label.sk-toggleable__label-arrow:hover:before {color: black;}#sk-container-id-7 div.sk-estimator:hover label.sk-toggleable__label-arrow:before {color: black;}#sk-container-id-7 div.sk-toggleable__content {max-height: 0;max-width: 0;overflow: hidden;text-align: left;background-color: #f0f8ff;}#sk-container-id-7 div.sk-toggleable__content pre {margin: 0.2em;color: black;border-radius: 0.25em;background-color: #f0f8ff;}#sk-container-id-7 input.sk-toggleable__control:checked~div.sk-toggleable__content {max-height: 200px;max-width: 100%;overflow: auto;}#sk-container-id-7 input.sk-toggleable__control:checked~label.sk-toggleable__label-arrow:before {content: \"▾\";}#sk-container-id-7 div.sk-estimator input.sk-toggleable__control:checked~label.sk-toggleable__label {background-color: #d4ebff;}#sk-container-id-7 div.sk-label input.sk-toggleable__control:checked~label.sk-toggleable__label {background-color: #d4ebff;}#sk-container-id-7 input.sk-hidden--visually {border: 0;clip: rect(1px 1px 1px 1px);clip: rect(1px, 1px, 1px, 1px);height: 1px;margin: -1px;overflow: hidden;padding: 0;position: absolute;width: 1px;}#sk-container-id-7 div.sk-estimator {font-family: monospace;background-color: #f0f8ff;border: 1px dotted black;border-radius: 0.25em;box-sizing: border-box;margin-bottom: 0.5em;}#sk-container-id-7 div.sk-estimator:hover {background-color: #d4ebff;}#sk-container-id-7 div.sk-parallel-item::after {content: \"\";width: 100%;border-bottom: 1px solid gray;flex-grow: 1;}#sk-container-id-7 div.sk-label:hover label.sk-toggleable__label {background-color: #d4ebff;}#sk-container-id-7 div.sk-serial::before {content: \"\";position: absolute;border-left: 1px solid gray;box-sizing: border-box;top: 0;bottom: 0;left: 50%;z-index: 0;}#sk-container-id-7 div.sk-serial {display: flex;flex-direction: column;align-items: center;background-color: white;padding-right: 0.2em;padding-left: 0.2em;position: relative;}#sk-container-id-7 div.sk-item {position: relative;z-index: 1;}#sk-container-id-7 div.sk-parallel {display: flex;align-items: stretch;justify-content: center;background-color: white;position: relative;}#sk-container-id-7 div.sk-item::before, #sk-container-id-7 div.sk-parallel-item::before {content: \"\";position: absolute;border-left: 1px solid gray;box-sizing: border-box;top: 0;bottom: 0;left: 50%;z-index: -1;}#sk-container-id-7 div.sk-parallel-item {display: flex;flex-direction: column;z-index: 1;position: relative;background-color: white;}#sk-container-id-7 div.sk-parallel-item:first-child::after {align-self: flex-end;width: 50%;}#sk-container-id-7 div.sk-parallel-item:last-child::after {align-self: flex-start;width: 50%;}#sk-container-id-7 div.sk-parallel-item:only-child::after {width: 0;}#sk-container-id-7 div.sk-dashed-wrapped {border: 1px dashed gray;margin: 0 0.4em 0.5em 0.4em;box-sizing: border-box;padding-bottom: 0.4em;background-color: white;}#sk-container-id-7 div.sk-label label {font-family: monospace;font-weight: bold;display: inline-block;line-height: 1.2em;}#sk-container-id-7 div.sk-label-container {text-align: center;}#sk-container-id-7 div.sk-container {/* jupyter's `normalize.less` sets `[hidden] { display: none; }` but bootstrap.min.css set `[hidden] { display: none !important; }` so we also need the `!important` here to be able to override the default hidden behavior on the sphinx rendered scikit-learn.org. See: https://github.com/scikit-learn/scikit-learn/issues/21755 */display: inline-block !important;position: relative;}#sk-container-id-7 div.sk-text-repr-fallback {display: none;}</style><div id=\"sk-container-id-7\" class=\"sk-top-container\"><div class=\"sk-text-repr-fallback\"><pre>HistGradientBoostingClassifier()</pre><b>In a Jupyter environment, please rerun this cell to show the HTML representation or trust the notebook. <br />On GitHub, the HTML representation is unable to render, please try loading this page with nbviewer.org.</b></div><div class=\"sk-container\" hidden><div class=\"sk-item\"><div class=\"sk-estimator sk-toggleable\"><input class=\"sk-toggleable__control sk-hidden--visually\" id=\"sk-estimator-id-7\" type=\"checkbox\" checked><label for=\"sk-estimator-id-7\" class=\"sk-toggleable__label sk-toggleable__label-arrow\">HistGradientBoostingClassifier</label><div class=\"sk-toggleable__content\"><pre>HistGradientBoostingClassifier()</pre></div></div></div></div></div>"
      ],
      "text/plain": [
       "HistGradientBoostingClassifier()"
      ]
     },
     "execution_count": 98,
     "metadata": {},
     "output_type": "execute_result"
    }
   ],
   "source": [
    "gbc.fit(data_train , target_train )"
   ]
  },
  {
   "cell_type": "code",
   "execution_count": 99,
   "id": "5e94fa75",
   "metadata": {},
   "outputs": [],
   "source": [
    "target_predicted = gbc.predict(data_test)"
   ]
  },
  {
   "cell_type": "code",
   "execution_count": 100,
   "id": "a965f8f4",
   "metadata": {},
   "outputs": [
    {
     "name": "stdout",
     "output_type": "stream",
     "text": [
      "classification report for : HistGradientBoostingClassifier()\n",
      "              precision    recall  f1-score   support\n",
      "\n",
      "           0       0.87      0.68      0.76        99\n",
      "           1       0.73      0.90      0.81        97\n",
      "\n",
      "    accuracy                           0.79       196\n",
      "   macro avg       0.80      0.79      0.78       196\n",
      "weighted avg       0.80      0.79      0.78       196\n",
      "\n"
     ]
    }
   ],
   "source": [
    "print(\"classification report for :\" , gbc.__str__())\n",
    "print(classification_report(y_true = target_test , y_pred = target_predicted ))"
   ]
  },
  {
   "cell_type": "markdown",
   "id": "eb0fbbd4",
   "metadata": {},
   "source": [
    "## K-Nearest Neihgbors"
   ]
  },
  {
   "cell_type": "code",
   "execution_count": 77,
   "id": "7677fb99",
   "metadata": {},
   "outputs": [],
   "source": [
    "kn = KNeighborsClassifier(n_neighbors=5)"
   ]
  },
  {
   "cell_type": "code",
   "execution_count": 78,
   "id": "de4479ac",
   "metadata": {},
   "outputs": [
    {
     "data": {
      "text/html": [
       "<style>#sk-container-id-3 {color: black;background-color: white;}#sk-container-id-3 pre{padding: 0;}#sk-container-id-3 div.sk-toggleable {background-color: white;}#sk-container-id-3 label.sk-toggleable__label {cursor: pointer;display: block;width: 100%;margin-bottom: 0;padding: 0.3em;box-sizing: border-box;text-align: center;}#sk-container-id-3 label.sk-toggleable__label-arrow:before {content: \"▸\";float: left;margin-right: 0.25em;color: #696969;}#sk-container-id-3 label.sk-toggleable__label-arrow:hover:before {color: black;}#sk-container-id-3 div.sk-estimator:hover label.sk-toggleable__label-arrow:before {color: black;}#sk-container-id-3 div.sk-toggleable__content {max-height: 0;max-width: 0;overflow: hidden;text-align: left;background-color: #f0f8ff;}#sk-container-id-3 div.sk-toggleable__content pre {margin: 0.2em;color: black;border-radius: 0.25em;background-color: #f0f8ff;}#sk-container-id-3 input.sk-toggleable__control:checked~div.sk-toggleable__content {max-height: 200px;max-width: 100%;overflow: auto;}#sk-container-id-3 input.sk-toggleable__control:checked~label.sk-toggleable__label-arrow:before {content: \"▾\";}#sk-container-id-3 div.sk-estimator input.sk-toggleable__control:checked~label.sk-toggleable__label {background-color: #d4ebff;}#sk-container-id-3 div.sk-label input.sk-toggleable__control:checked~label.sk-toggleable__label {background-color: #d4ebff;}#sk-container-id-3 input.sk-hidden--visually {border: 0;clip: rect(1px 1px 1px 1px);clip: rect(1px, 1px, 1px, 1px);height: 1px;margin: -1px;overflow: hidden;padding: 0;position: absolute;width: 1px;}#sk-container-id-3 div.sk-estimator {font-family: monospace;background-color: #f0f8ff;border: 1px dotted black;border-radius: 0.25em;box-sizing: border-box;margin-bottom: 0.5em;}#sk-container-id-3 div.sk-estimator:hover {background-color: #d4ebff;}#sk-container-id-3 div.sk-parallel-item::after {content: \"\";width: 100%;border-bottom: 1px solid gray;flex-grow: 1;}#sk-container-id-3 div.sk-label:hover label.sk-toggleable__label {background-color: #d4ebff;}#sk-container-id-3 div.sk-serial::before {content: \"\";position: absolute;border-left: 1px solid gray;box-sizing: border-box;top: 0;bottom: 0;left: 50%;z-index: 0;}#sk-container-id-3 div.sk-serial {display: flex;flex-direction: column;align-items: center;background-color: white;padding-right: 0.2em;padding-left: 0.2em;position: relative;}#sk-container-id-3 div.sk-item {position: relative;z-index: 1;}#sk-container-id-3 div.sk-parallel {display: flex;align-items: stretch;justify-content: center;background-color: white;position: relative;}#sk-container-id-3 div.sk-item::before, #sk-container-id-3 div.sk-parallel-item::before {content: \"\";position: absolute;border-left: 1px solid gray;box-sizing: border-box;top: 0;bottom: 0;left: 50%;z-index: -1;}#sk-container-id-3 div.sk-parallel-item {display: flex;flex-direction: column;z-index: 1;position: relative;background-color: white;}#sk-container-id-3 div.sk-parallel-item:first-child::after {align-self: flex-end;width: 50%;}#sk-container-id-3 div.sk-parallel-item:last-child::after {align-self: flex-start;width: 50%;}#sk-container-id-3 div.sk-parallel-item:only-child::after {width: 0;}#sk-container-id-3 div.sk-dashed-wrapped {border: 1px dashed gray;margin: 0 0.4em 0.5em 0.4em;box-sizing: border-box;padding-bottom: 0.4em;background-color: white;}#sk-container-id-3 div.sk-label label {font-family: monospace;font-weight: bold;display: inline-block;line-height: 1.2em;}#sk-container-id-3 div.sk-label-container {text-align: center;}#sk-container-id-3 div.sk-container {/* jupyter's `normalize.less` sets `[hidden] { display: none; }` but bootstrap.min.css set `[hidden] { display: none !important; }` so we also need the `!important` here to be able to override the default hidden behavior on the sphinx rendered scikit-learn.org. See: https://github.com/scikit-learn/scikit-learn/issues/21755 */display: inline-block !important;position: relative;}#sk-container-id-3 div.sk-text-repr-fallback {display: none;}</style><div id=\"sk-container-id-3\" class=\"sk-top-container\"><div class=\"sk-text-repr-fallback\"><pre>KNeighborsClassifier()</pre><b>In a Jupyter environment, please rerun this cell to show the HTML representation or trust the notebook. <br />On GitHub, the HTML representation is unable to render, please try loading this page with nbviewer.org.</b></div><div class=\"sk-container\" hidden><div class=\"sk-item\"><div class=\"sk-estimator sk-toggleable\"><input class=\"sk-toggleable__control sk-hidden--visually\" id=\"sk-estimator-id-3\" type=\"checkbox\" checked><label for=\"sk-estimator-id-3\" class=\"sk-toggleable__label sk-toggleable__label-arrow\">KNeighborsClassifier</label><div class=\"sk-toggleable__content\"><pre>KNeighborsClassifier()</pre></div></div></div></div></div>"
      ],
      "text/plain": [
       "KNeighborsClassifier()"
      ]
     },
     "execution_count": 78,
     "metadata": {},
     "output_type": "execute_result"
    }
   ],
   "source": [
    "kn.fit(data_train , target_train )"
   ]
  },
  {
   "cell_type": "code",
   "execution_count": 79,
   "id": "12a7aa24",
   "metadata": {},
   "outputs": [
    {
     "name": "stdout",
     "output_type": "stream",
     "text": [
      "classification report for : KNeighborsClassifier()\n",
      "              precision    recall  f1-score   support\n",
      "\n",
      "           0       0.83      0.68      0.74        99\n",
      "           1       0.72      0.86      0.78        97\n",
      "\n",
      "    accuracy                           0.77       196\n",
      "   macro avg       0.77      0.77      0.76       196\n",
      "weighted avg       0.77      0.77      0.76       196\n",
      "\n"
     ]
    }
   ],
   "source": [
    "print(\"classification report for :\" , kn.__str__())\n",
    "print(classification_report(y_true = target_test , y_pred = target_predicted ))"
   ]
  },
  {
   "cell_type": "markdown",
   "id": "a723fc9e",
   "metadata": {},
   "source": [
    "## Support vector machines( SVM )"
   ]
  },
  {
   "cell_type": "code",
   "execution_count": 80,
   "id": "cf5a26df",
   "metadata": {},
   "outputs": [],
   "source": [
    "sv = svm.SVC()"
   ]
  },
  {
   "cell_type": "code",
   "execution_count": 81,
   "id": "1b99e500",
   "metadata": {},
   "outputs": [
    {
     "data": {
      "text/html": [
       "<style>#sk-container-id-4 {color: black;background-color: white;}#sk-container-id-4 pre{padding: 0;}#sk-container-id-4 div.sk-toggleable {background-color: white;}#sk-container-id-4 label.sk-toggleable__label {cursor: pointer;display: block;width: 100%;margin-bottom: 0;padding: 0.3em;box-sizing: border-box;text-align: center;}#sk-container-id-4 label.sk-toggleable__label-arrow:before {content: \"▸\";float: left;margin-right: 0.25em;color: #696969;}#sk-container-id-4 label.sk-toggleable__label-arrow:hover:before {color: black;}#sk-container-id-4 div.sk-estimator:hover label.sk-toggleable__label-arrow:before {color: black;}#sk-container-id-4 div.sk-toggleable__content {max-height: 0;max-width: 0;overflow: hidden;text-align: left;background-color: #f0f8ff;}#sk-container-id-4 div.sk-toggleable__content pre {margin: 0.2em;color: black;border-radius: 0.25em;background-color: #f0f8ff;}#sk-container-id-4 input.sk-toggleable__control:checked~div.sk-toggleable__content {max-height: 200px;max-width: 100%;overflow: auto;}#sk-container-id-4 input.sk-toggleable__control:checked~label.sk-toggleable__label-arrow:before {content: \"▾\";}#sk-container-id-4 div.sk-estimator input.sk-toggleable__control:checked~label.sk-toggleable__label {background-color: #d4ebff;}#sk-container-id-4 div.sk-label input.sk-toggleable__control:checked~label.sk-toggleable__label {background-color: #d4ebff;}#sk-container-id-4 input.sk-hidden--visually {border: 0;clip: rect(1px 1px 1px 1px);clip: rect(1px, 1px, 1px, 1px);height: 1px;margin: -1px;overflow: hidden;padding: 0;position: absolute;width: 1px;}#sk-container-id-4 div.sk-estimator {font-family: monospace;background-color: #f0f8ff;border: 1px dotted black;border-radius: 0.25em;box-sizing: border-box;margin-bottom: 0.5em;}#sk-container-id-4 div.sk-estimator:hover {background-color: #d4ebff;}#sk-container-id-4 div.sk-parallel-item::after {content: \"\";width: 100%;border-bottom: 1px solid gray;flex-grow: 1;}#sk-container-id-4 div.sk-label:hover label.sk-toggleable__label {background-color: #d4ebff;}#sk-container-id-4 div.sk-serial::before {content: \"\";position: absolute;border-left: 1px solid gray;box-sizing: border-box;top: 0;bottom: 0;left: 50%;z-index: 0;}#sk-container-id-4 div.sk-serial {display: flex;flex-direction: column;align-items: center;background-color: white;padding-right: 0.2em;padding-left: 0.2em;position: relative;}#sk-container-id-4 div.sk-item {position: relative;z-index: 1;}#sk-container-id-4 div.sk-parallel {display: flex;align-items: stretch;justify-content: center;background-color: white;position: relative;}#sk-container-id-4 div.sk-item::before, #sk-container-id-4 div.sk-parallel-item::before {content: \"\";position: absolute;border-left: 1px solid gray;box-sizing: border-box;top: 0;bottom: 0;left: 50%;z-index: -1;}#sk-container-id-4 div.sk-parallel-item {display: flex;flex-direction: column;z-index: 1;position: relative;background-color: white;}#sk-container-id-4 div.sk-parallel-item:first-child::after {align-self: flex-end;width: 50%;}#sk-container-id-4 div.sk-parallel-item:last-child::after {align-self: flex-start;width: 50%;}#sk-container-id-4 div.sk-parallel-item:only-child::after {width: 0;}#sk-container-id-4 div.sk-dashed-wrapped {border: 1px dashed gray;margin: 0 0.4em 0.5em 0.4em;box-sizing: border-box;padding-bottom: 0.4em;background-color: white;}#sk-container-id-4 div.sk-label label {font-family: monospace;font-weight: bold;display: inline-block;line-height: 1.2em;}#sk-container-id-4 div.sk-label-container {text-align: center;}#sk-container-id-4 div.sk-container {/* jupyter's `normalize.less` sets `[hidden] { display: none; }` but bootstrap.min.css set `[hidden] { display: none !important; }` so we also need the `!important` here to be able to override the default hidden behavior on the sphinx rendered scikit-learn.org. See: https://github.com/scikit-learn/scikit-learn/issues/21755 */display: inline-block !important;position: relative;}#sk-container-id-4 div.sk-text-repr-fallback {display: none;}</style><div id=\"sk-container-id-4\" class=\"sk-top-container\"><div class=\"sk-text-repr-fallback\"><pre>SVC()</pre><b>In a Jupyter environment, please rerun this cell to show the HTML representation or trust the notebook. <br />On GitHub, the HTML representation is unable to render, please try loading this page with nbviewer.org.</b></div><div class=\"sk-container\" hidden><div class=\"sk-item\"><div class=\"sk-estimator sk-toggleable\"><input class=\"sk-toggleable__control sk-hidden--visually\" id=\"sk-estimator-id-4\" type=\"checkbox\" checked><label for=\"sk-estimator-id-4\" class=\"sk-toggleable__label sk-toggleable__label-arrow\">SVC</label><div class=\"sk-toggleable__content\"><pre>SVC()</pre></div></div></div></div></div>"
      ],
      "text/plain": [
       "SVC()"
      ]
     },
     "execution_count": 81,
     "metadata": {},
     "output_type": "execute_result"
    }
   ],
   "source": [
    "sv.fit(data_train , target_train)"
   ]
  },
  {
   "cell_type": "code",
   "execution_count": 82,
   "id": "7be5d1ab",
   "metadata": {},
   "outputs": [],
   "source": [
    "target_predicted = sv.predict(data_test)"
   ]
  },
  {
   "cell_type": "code",
   "execution_count": 83,
   "id": "a20b1c77",
   "metadata": {},
   "outputs": [
    {
     "name": "stdout",
     "output_type": "stream",
     "text": [
      "classification report for : SVC()\n",
      "              precision    recall  f1-score   support\n",
      "\n",
      "           0       0.74      0.71      0.72        99\n",
      "           1       0.71      0.74      0.73        97\n",
      "\n",
      "    accuracy                           0.72       196\n",
      "   macro avg       0.72      0.72      0.72       196\n",
      "weighted avg       0.72      0.72      0.72       196\n",
      "\n"
     ]
    }
   ],
   "source": [
    "print(\"classification report for :\" , sv.__str__())\n",
    "print(classification_report(y_true = target_test , y_pred = target_predicted ))"
   ]
  },
  {
   "cell_type": "markdown",
   "id": "7627b6d8",
   "metadata": {},
   "source": [
    "## Decision Classifier Model"
   ]
  },
  {
   "cell_type": "code",
   "execution_count": 84,
   "id": "a0335163",
   "metadata": {},
   "outputs": [],
   "source": [
    "ds = DecisionTreeClassifier()"
   ]
  },
  {
   "cell_type": "code",
   "execution_count": 85,
   "id": "44f00836",
   "metadata": {},
   "outputs": [
    {
     "data": {
      "text/html": [
       "<style>#sk-container-id-5 {color: black;background-color: white;}#sk-container-id-5 pre{padding: 0;}#sk-container-id-5 div.sk-toggleable {background-color: white;}#sk-container-id-5 label.sk-toggleable__label {cursor: pointer;display: block;width: 100%;margin-bottom: 0;padding: 0.3em;box-sizing: border-box;text-align: center;}#sk-container-id-5 label.sk-toggleable__label-arrow:before {content: \"▸\";float: left;margin-right: 0.25em;color: #696969;}#sk-container-id-5 label.sk-toggleable__label-arrow:hover:before {color: black;}#sk-container-id-5 div.sk-estimator:hover label.sk-toggleable__label-arrow:before {color: black;}#sk-container-id-5 div.sk-toggleable__content {max-height: 0;max-width: 0;overflow: hidden;text-align: left;background-color: #f0f8ff;}#sk-container-id-5 div.sk-toggleable__content pre {margin: 0.2em;color: black;border-radius: 0.25em;background-color: #f0f8ff;}#sk-container-id-5 input.sk-toggleable__control:checked~div.sk-toggleable__content {max-height: 200px;max-width: 100%;overflow: auto;}#sk-container-id-5 input.sk-toggleable__control:checked~label.sk-toggleable__label-arrow:before {content: \"▾\";}#sk-container-id-5 div.sk-estimator input.sk-toggleable__control:checked~label.sk-toggleable__label {background-color: #d4ebff;}#sk-container-id-5 div.sk-label input.sk-toggleable__control:checked~label.sk-toggleable__label {background-color: #d4ebff;}#sk-container-id-5 input.sk-hidden--visually {border: 0;clip: rect(1px 1px 1px 1px);clip: rect(1px, 1px, 1px, 1px);height: 1px;margin: -1px;overflow: hidden;padding: 0;position: absolute;width: 1px;}#sk-container-id-5 div.sk-estimator {font-family: monospace;background-color: #f0f8ff;border: 1px dotted black;border-radius: 0.25em;box-sizing: border-box;margin-bottom: 0.5em;}#sk-container-id-5 div.sk-estimator:hover {background-color: #d4ebff;}#sk-container-id-5 div.sk-parallel-item::after {content: \"\";width: 100%;border-bottom: 1px solid gray;flex-grow: 1;}#sk-container-id-5 div.sk-label:hover label.sk-toggleable__label {background-color: #d4ebff;}#sk-container-id-5 div.sk-serial::before {content: \"\";position: absolute;border-left: 1px solid gray;box-sizing: border-box;top: 0;bottom: 0;left: 50%;z-index: 0;}#sk-container-id-5 div.sk-serial {display: flex;flex-direction: column;align-items: center;background-color: white;padding-right: 0.2em;padding-left: 0.2em;position: relative;}#sk-container-id-5 div.sk-item {position: relative;z-index: 1;}#sk-container-id-5 div.sk-parallel {display: flex;align-items: stretch;justify-content: center;background-color: white;position: relative;}#sk-container-id-5 div.sk-item::before, #sk-container-id-5 div.sk-parallel-item::before {content: \"\";position: absolute;border-left: 1px solid gray;box-sizing: border-box;top: 0;bottom: 0;left: 50%;z-index: -1;}#sk-container-id-5 div.sk-parallel-item {display: flex;flex-direction: column;z-index: 1;position: relative;background-color: white;}#sk-container-id-5 div.sk-parallel-item:first-child::after {align-self: flex-end;width: 50%;}#sk-container-id-5 div.sk-parallel-item:last-child::after {align-self: flex-start;width: 50%;}#sk-container-id-5 div.sk-parallel-item:only-child::after {width: 0;}#sk-container-id-5 div.sk-dashed-wrapped {border: 1px dashed gray;margin: 0 0.4em 0.5em 0.4em;box-sizing: border-box;padding-bottom: 0.4em;background-color: white;}#sk-container-id-5 div.sk-label label {font-family: monospace;font-weight: bold;display: inline-block;line-height: 1.2em;}#sk-container-id-5 div.sk-label-container {text-align: center;}#sk-container-id-5 div.sk-container {/* jupyter's `normalize.less` sets `[hidden] { display: none; }` but bootstrap.min.css set `[hidden] { display: none !important; }` so we also need the `!important` here to be able to override the default hidden behavior on the sphinx rendered scikit-learn.org. See: https://github.com/scikit-learn/scikit-learn/issues/21755 */display: inline-block !important;position: relative;}#sk-container-id-5 div.sk-text-repr-fallback {display: none;}</style><div id=\"sk-container-id-5\" class=\"sk-top-container\"><div class=\"sk-text-repr-fallback\"><pre>DecisionTreeClassifier()</pre><b>In a Jupyter environment, please rerun this cell to show the HTML representation or trust the notebook. <br />On GitHub, the HTML representation is unable to render, please try loading this page with nbviewer.org.</b></div><div class=\"sk-container\" hidden><div class=\"sk-item\"><div class=\"sk-estimator sk-toggleable\"><input class=\"sk-toggleable__control sk-hidden--visually\" id=\"sk-estimator-id-5\" type=\"checkbox\" checked><label for=\"sk-estimator-id-5\" class=\"sk-toggleable__label sk-toggleable__label-arrow\">DecisionTreeClassifier</label><div class=\"sk-toggleable__content\"><pre>DecisionTreeClassifier()</pre></div></div></div></div></div>"
      ],
      "text/plain": [
       "DecisionTreeClassifier()"
      ]
     },
     "execution_count": 85,
     "metadata": {},
     "output_type": "execute_result"
    }
   ],
   "source": [
    "ds.fit(data_train , target_train)"
   ]
  },
  {
   "cell_type": "code",
   "execution_count": 86,
   "id": "86d9ccfc",
   "metadata": {},
   "outputs": [],
   "source": [
    "target_predicted = ds.predict(data_test)"
   ]
  },
  {
   "cell_type": "code",
   "execution_count": 87,
   "id": "4c2fedb3",
   "metadata": {},
   "outputs": [
    {
     "name": "stdout",
     "output_type": "stream",
     "text": [
      "classification report for : DecisionTreeClassifier()\n",
      "              precision    recall  f1-score   support\n",
      "\n",
      "           0       0.75      0.68      0.71        99\n",
      "           1       0.70      0.77      0.74        97\n",
      "\n",
      "    accuracy                           0.72       196\n",
      "   macro avg       0.73      0.72      0.72       196\n",
      "weighted avg       0.73      0.72      0.72       196\n",
      "\n"
     ]
    }
   ],
   "source": [
    "print(\"classification report for :\" , ds.__str__())\n",
    "print(classification_report(y_true = target_test , y_pred = target_predicted ))"
   ]
  },
  {
   "cell_type": "markdown",
   "id": "92f27649",
   "metadata": {},
   "source": [
    "## Random Forest"
   ]
  },
  {
   "cell_type": "code",
   "execution_count": 88,
   "id": "e4dc43d1",
   "metadata": {},
   "outputs": [],
   "source": [
    "rm = RandomForestClassifier()"
   ]
  },
  {
   "cell_type": "code",
   "execution_count": 89,
   "id": "c7aeef83",
   "metadata": {},
   "outputs": [
    {
     "data": {
      "text/html": [
       "<style>#sk-container-id-6 {color: black;background-color: white;}#sk-container-id-6 pre{padding: 0;}#sk-container-id-6 div.sk-toggleable {background-color: white;}#sk-container-id-6 label.sk-toggleable__label {cursor: pointer;display: block;width: 100%;margin-bottom: 0;padding: 0.3em;box-sizing: border-box;text-align: center;}#sk-container-id-6 label.sk-toggleable__label-arrow:before {content: \"▸\";float: left;margin-right: 0.25em;color: #696969;}#sk-container-id-6 label.sk-toggleable__label-arrow:hover:before {color: black;}#sk-container-id-6 div.sk-estimator:hover label.sk-toggleable__label-arrow:before {color: black;}#sk-container-id-6 div.sk-toggleable__content {max-height: 0;max-width: 0;overflow: hidden;text-align: left;background-color: #f0f8ff;}#sk-container-id-6 div.sk-toggleable__content pre {margin: 0.2em;color: black;border-radius: 0.25em;background-color: #f0f8ff;}#sk-container-id-6 input.sk-toggleable__control:checked~div.sk-toggleable__content {max-height: 200px;max-width: 100%;overflow: auto;}#sk-container-id-6 input.sk-toggleable__control:checked~label.sk-toggleable__label-arrow:before {content: \"▾\";}#sk-container-id-6 div.sk-estimator input.sk-toggleable__control:checked~label.sk-toggleable__label {background-color: #d4ebff;}#sk-container-id-6 div.sk-label input.sk-toggleable__control:checked~label.sk-toggleable__label {background-color: #d4ebff;}#sk-container-id-6 input.sk-hidden--visually {border: 0;clip: rect(1px 1px 1px 1px);clip: rect(1px, 1px, 1px, 1px);height: 1px;margin: -1px;overflow: hidden;padding: 0;position: absolute;width: 1px;}#sk-container-id-6 div.sk-estimator {font-family: monospace;background-color: #f0f8ff;border: 1px dotted black;border-radius: 0.25em;box-sizing: border-box;margin-bottom: 0.5em;}#sk-container-id-6 div.sk-estimator:hover {background-color: #d4ebff;}#sk-container-id-6 div.sk-parallel-item::after {content: \"\";width: 100%;border-bottom: 1px solid gray;flex-grow: 1;}#sk-container-id-6 div.sk-label:hover label.sk-toggleable__label {background-color: #d4ebff;}#sk-container-id-6 div.sk-serial::before {content: \"\";position: absolute;border-left: 1px solid gray;box-sizing: border-box;top: 0;bottom: 0;left: 50%;z-index: 0;}#sk-container-id-6 div.sk-serial {display: flex;flex-direction: column;align-items: center;background-color: white;padding-right: 0.2em;padding-left: 0.2em;position: relative;}#sk-container-id-6 div.sk-item {position: relative;z-index: 1;}#sk-container-id-6 div.sk-parallel {display: flex;align-items: stretch;justify-content: center;background-color: white;position: relative;}#sk-container-id-6 div.sk-item::before, #sk-container-id-6 div.sk-parallel-item::before {content: \"\";position: absolute;border-left: 1px solid gray;box-sizing: border-box;top: 0;bottom: 0;left: 50%;z-index: -1;}#sk-container-id-6 div.sk-parallel-item {display: flex;flex-direction: column;z-index: 1;position: relative;background-color: white;}#sk-container-id-6 div.sk-parallel-item:first-child::after {align-self: flex-end;width: 50%;}#sk-container-id-6 div.sk-parallel-item:last-child::after {align-self: flex-start;width: 50%;}#sk-container-id-6 div.sk-parallel-item:only-child::after {width: 0;}#sk-container-id-6 div.sk-dashed-wrapped {border: 1px dashed gray;margin: 0 0.4em 0.5em 0.4em;box-sizing: border-box;padding-bottom: 0.4em;background-color: white;}#sk-container-id-6 div.sk-label label {font-family: monospace;font-weight: bold;display: inline-block;line-height: 1.2em;}#sk-container-id-6 div.sk-label-container {text-align: center;}#sk-container-id-6 div.sk-container {/* jupyter's `normalize.less` sets `[hidden] { display: none; }` but bootstrap.min.css set `[hidden] { display: none !important; }` so we also need the `!important` here to be able to override the default hidden behavior on the sphinx rendered scikit-learn.org. See: https://github.com/scikit-learn/scikit-learn/issues/21755 */display: inline-block !important;position: relative;}#sk-container-id-6 div.sk-text-repr-fallback {display: none;}</style><div id=\"sk-container-id-6\" class=\"sk-top-container\"><div class=\"sk-text-repr-fallback\"><pre>RandomForestClassifier()</pre><b>In a Jupyter environment, please rerun this cell to show the HTML representation or trust the notebook. <br />On GitHub, the HTML representation is unable to render, please try loading this page with nbviewer.org.</b></div><div class=\"sk-container\" hidden><div class=\"sk-item\"><div class=\"sk-estimator sk-toggleable\"><input class=\"sk-toggleable__control sk-hidden--visually\" id=\"sk-estimator-id-6\" type=\"checkbox\" checked><label for=\"sk-estimator-id-6\" class=\"sk-toggleable__label sk-toggleable__label-arrow\">RandomForestClassifier</label><div class=\"sk-toggleable__content\"><pre>RandomForestClassifier()</pre></div></div></div></div></div>"
      ],
      "text/plain": [
       "RandomForestClassifier()"
      ]
     },
     "execution_count": 89,
     "metadata": {},
     "output_type": "execute_result"
    }
   ],
   "source": [
    "rm.fit(data_train , target_train)"
   ]
  },
  {
   "cell_type": "code",
   "execution_count": 90,
   "id": "b11624a9",
   "metadata": {},
   "outputs": [],
   "source": [
    "target_predicted = ds.predict(data_test)"
   ]
  },
  {
   "cell_type": "code",
   "execution_count": 91,
   "id": "f09e7e3d",
   "metadata": {},
   "outputs": [
    {
     "name": "stdout",
     "output_type": "stream",
     "text": [
      "classification report for : DecisionTreeClassifier()\n",
      "              precision    recall  f1-score   support\n",
      "\n",
      "           0       0.75      0.68      0.71        99\n",
      "           1       0.70      0.77      0.74        97\n",
      "\n",
      "    accuracy                           0.72       196\n",
      "   macro avg       0.73      0.72      0.72       196\n",
      "weighted avg       0.73      0.72      0.72       196\n",
      "\n"
     ]
    }
   ],
   "source": [
    "print(\"classification report for :\" , ds.__str__())\n",
    "print(classification_report(y_true = target_test , y_pred = target_predicted ))"
   ]
  },
  {
   "cell_type": "markdown",
   "id": "e761aa80",
   "metadata": {},
   "source": [
    "## Hyper parameter tuning"
   ]
  },
  {
   "cell_type": "code",
   "execution_count": 101,
   "id": "19d1af6a",
   "metadata": {},
   "outputs": [],
   "source": [
    "model_params = {\n",
    "    \n",
    "    \"hist gradient classifier\" : {\n",
    "        \"model\" : HistGradientBoostingClassifier(),\n",
    "        \"params\" : {\n",
    "            \"loss\" : [\"log_loss\" , \"auto\" , \"binary_crossentropy\" , \"categorical_crossentropy\" ],\n",
    "            \"learning_rate\" : [0.1 , 1 , 2 ,3],\n",
    "            \"max_depth\" : [25 , 50 , 75 , None],\n",
    "            \"l2_regularization\" : [0 , 1.25 , 1.5 , 2],\n",
    "            \"scoring\" : [\"f1_micro\" , \"loss\"]\n",
    "        }\n",
    "    }\n",
    "}"
   ]
  },
  {
   "cell_type": "code",
   "execution_count": 102,
   "id": "16f49063",
   "metadata": {},
   "outputs": [
    {
     "name": "stdout",
     "output_type": "stream",
     "text": [
      "50  percent\n"
     ]
    }
   ],
   "source": [
    "scores = []\n",
    "a = 0\n",
    "for model_name , mp in model_params.items():\n",
    "    a = a + 50\n",
    "    clf = GridSearchCV(mp[\"model\"] , mp[\"params\"] , cv = 5 , return_train_score=False)\n",
    "    clf.fit(data_train , target_train)\n",
    "    scores.append({\n",
    "        \"model\" : model_name,\n",
    "        \"best_score\" : clf.best_score_,\n",
    "        \"best_params\" : clf.best_params_\n",
    "    })\n",
    "    print(a , \" percent\")"
   ]
  },
  {
   "cell_type": "code",
   "execution_count": 103,
   "id": "f2440bd3",
   "metadata": {},
   "outputs": [
    {
     "data": {
      "text/plain": [
       "[{'model': 'hist gradient classifier',\n",
       "  'best_score': 0.8054613935969867,\n",
       "  'best_params': {'l2_regularization': 1.5,\n",
       "   'learning_rate': 0.1,\n",
       "   'loss': 'log_loss',\n",
       "   'max_depth': 25,\n",
       "   'scoring': 'f1_micro'}}]"
      ]
     },
     "execution_count": 103,
     "metadata": {},
     "output_type": "execute_result"
    }
   ],
   "source": [
    "scores"
   ]
  },
  {
   "cell_type": "code",
   "execution_count": 104,
   "id": "8426d2ce",
   "metadata": {},
   "outputs": [
    {
     "data": {
      "text/html": [
       "<div>\n",
       "<style scoped>\n",
       "    .dataframe tbody tr th:only-of-type {\n",
       "        vertical-align: middle;\n",
       "    }\n",
       "\n",
       "    .dataframe tbody tr th {\n",
       "        vertical-align: top;\n",
       "    }\n",
       "\n",
       "    .dataframe thead th {\n",
       "        text-align: right;\n",
       "    }\n",
       "</style>\n",
       "<table border=\"1\" class=\"dataframe\">\n",
       "  <thead>\n",
       "    <tr style=\"text-align: right;\">\n",
       "      <th></th>\n",
       "      <th>model</th>\n",
       "      <th>best_score</th>\n",
       "      <th>best_params</th>\n",
       "    </tr>\n",
       "  </thead>\n",
       "  <tbody>\n",
       "    <tr>\n",
       "      <th>0</th>\n",
       "      <td>hist gradient classifier</td>\n",
       "      <td>0.805461</td>\n",
       "      <td>{'l2_regularization': 1.5, 'learning_rate': 0....</td>\n",
       "    </tr>\n",
       "  </tbody>\n",
       "</table>\n",
       "</div>"
      ],
      "text/plain": [
       "                      model  best_score  \\\n",
       "0  hist gradient classifier    0.805461   \n",
       "\n",
       "                                         best_params  \n",
       "0  {'l2_regularization': 1.5, 'learning_rate': 0....  "
      ]
     },
     "execution_count": 104,
     "metadata": {},
     "output_type": "execute_result"
    }
   ],
   "source": [
    "df = pd.DataFrame(scores)\n",
    "df"
   ]
  },
  {
   "cell_type": "markdown",
   "id": "6c5fc4fe",
   "metadata": {},
   "source": [
    "## Pipeline"
   ]
  },
  {
   "cell_type": "code",
   "execution_count": 105,
   "id": "d40ea035",
   "metadata": {},
   "outputs": [],
   "source": [
    "\n",
    "pipe = make_pipeline(\n",
    "    StandardScaler(),\n",
    "    HistGradientBoostingClassifier(\n",
    "        l2_regularization = 1.5,\n",
    "        learning_rate = 0.1,\n",
    "        loss = 'auto',\n",
    "        max_depth = 25,\n",
    "        scoring = 'f1_micro' )\n",
    ")\n"
   ]
  },
  {
   "cell_type": "code",
   "execution_count": 106,
   "id": "d2a07073",
   "metadata": {},
   "outputs": [
    {
     "data": {
      "text/html": [
       "<style>#sk-container-id-8 {color: black;background-color: white;}#sk-container-id-8 pre{padding: 0;}#sk-container-id-8 div.sk-toggleable {background-color: white;}#sk-container-id-8 label.sk-toggleable__label {cursor: pointer;display: block;width: 100%;margin-bottom: 0;padding: 0.3em;box-sizing: border-box;text-align: center;}#sk-container-id-8 label.sk-toggleable__label-arrow:before {content: \"▸\";float: left;margin-right: 0.25em;color: #696969;}#sk-container-id-8 label.sk-toggleable__label-arrow:hover:before {color: black;}#sk-container-id-8 div.sk-estimator:hover label.sk-toggleable__label-arrow:before {color: black;}#sk-container-id-8 div.sk-toggleable__content {max-height: 0;max-width: 0;overflow: hidden;text-align: left;background-color: #f0f8ff;}#sk-container-id-8 div.sk-toggleable__content pre {margin: 0.2em;color: black;border-radius: 0.25em;background-color: #f0f8ff;}#sk-container-id-8 input.sk-toggleable__control:checked~div.sk-toggleable__content {max-height: 200px;max-width: 100%;overflow: auto;}#sk-container-id-8 input.sk-toggleable__control:checked~label.sk-toggleable__label-arrow:before {content: \"▾\";}#sk-container-id-8 div.sk-estimator input.sk-toggleable__control:checked~label.sk-toggleable__label {background-color: #d4ebff;}#sk-container-id-8 div.sk-label input.sk-toggleable__control:checked~label.sk-toggleable__label {background-color: #d4ebff;}#sk-container-id-8 input.sk-hidden--visually {border: 0;clip: rect(1px 1px 1px 1px);clip: rect(1px, 1px, 1px, 1px);height: 1px;margin: -1px;overflow: hidden;padding: 0;position: absolute;width: 1px;}#sk-container-id-8 div.sk-estimator {font-family: monospace;background-color: #f0f8ff;border: 1px dotted black;border-radius: 0.25em;box-sizing: border-box;margin-bottom: 0.5em;}#sk-container-id-8 div.sk-estimator:hover {background-color: #d4ebff;}#sk-container-id-8 div.sk-parallel-item::after {content: \"\";width: 100%;border-bottom: 1px solid gray;flex-grow: 1;}#sk-container-id-8 div.sk-label:hover label.sk-toggleable__label {background-color: #d4ebff;}#sk-container-id-8 div.sk-serial::before {content: \"\";position: absolute;border-left: 1px solid gray;box-sizing: border-box;top: 0;bottom: 0;left: 50%;z-index: 0;}#sk-container-id-8 div.sk-serial {display: flex;flex-direction: column;align-items: center;background-color: white;padding-right: 0.2em;padding-left: 0.2em;position: relative;}#sk-container-id-8 div.sk-item {position: relative;z-index: 1;}#sk-container-id-8 div.sk-parallel {display: flex;align-items: stretch;justify-content: center;background-color: white;position: relative;}#sk-container-id-8 div.sk-item::before, #sk-container-id-8 div.sk-parallel-item::before {content: \"\";position: absolute;border-left: 1px solid gray;box-sizing: border-box;top: 0;bottom: 0;left: 50%;z-index: -1;}#sk-container-id-8 div.sk-parallel-item {display: flex;flex-direction: column;z-index: 1;position: relative;background-color: white;}#sk-container-id-8 div.sk-parallel-item:first-child::after {align-self: flex-end;width: 50%;}#sk-container-id-8 div.sk-parallel-item:last-child::after {align-self: flex-start;width: 50%;}#sk-container-id-8 div.sk-parallel-item:only-child::after {width: 0;}#sk-container-id-8 div.sk-dashed-wrapped {border: 1px dashed gray;margin: 0 0.4em 0.5em 0.4em;box-sizing: border-box;padding-bottom: 0.4em;background-color: white;}#sk-container-id-8 div.sk-label label {font-family: monospace;font-weight: bold;display: inline-block;line-height: 1.2em;}#sk-container-id-8 div.sk-label-container {text-align: center;}#sk-container-id-8 div.sk-container {/* jupyter's `normalize.less` sets `[hidden] { display: none; }` but bootstrap.min.css set `[hidden] { display: none !important; }` so we also need the `!important` here to be able to override the default hidden behavior on the sphinx rendered scikit-learn.org. See: https://github.com/scikit-learn/scikit-learn/issues/21755 */display: inline-block !important;position: relative;}#sk-container-id-8 div.sk-text-repr-fallback {display: none;}</style><div id=\"sk-container-id-8\" class=\"sk-top-container\"><div class=\"sk-text-repr-fallback\"><pre>Pipeline(steps=[(&#x27;standardscaler&#x27;, StandardScaler()),\n",
       "                (&#x27;histgradientboostingclassifier&#x27;,\n",
       "                 HistGradientBoostingClassifier(l2_regularization=1.5,\n",
       "                                                loss=&#x27;auto&#x27;, max_depth=25,\n",
       "                                                scoring=&#x27;f1_micro&#x27;))])</pre><b>In a Jupyter environment, please rerun this cell to show the HTML representation or trust the notebook. <br />On GitHub, the HTML representation is unable to render, please try loading this page with nbviewer.org.</b></div><div class=\"sk-container\" hidden><div class=\"sk-item sk-dashed-wrapped\"><div class=\"sk-label-container\"><div class=\"sk-label sk-toggleable\"><input class=\"sk-toggleable__control sk-hidden--visually\" id=\"sk-estimator-id-8\" type=\"checkbox\" ><label for=\"sk-estimator-id-8\" class=\"sk-toggleable__label sk-toggleable__label-arrow\">Pipeline</label><div class=\"sk-toggleable__content\"><pre>Pipeline(steps=[(&#x27;standardscaler&#x27;, StandardScaler()),\n",
       "                (&#x27;histgradientboostingclassifier&#x27;,\n",
       "                 HistGradientBoostingClassifier(l2_regularization=1.5,\n",
       "                                                loss=&#x27;auto&#x27;, max_depth=25,\n",
       "                                                scoring=&#x27;f1_micro&#x27;))])</pre></div></div></div><div class=\"sk-serial\"><div class=\"sk-item\"><div class=\"sk-estimator sk-toggleable\"><input class=\"sk-toggleable__control sk-hidden--visually\" id=\"sk-estimator-id-9\" type=\"checkbox\" ><label for=\"sk-estimator-id-9\" class=\"sk-toggleable__label sk-toggleable__label-arrow\">StandardScaler</label><div class=\"sk-toggleable__content\"><pre>StandardScaler()</pre></div></div></div><div class=\"sk-item\"><div class=\"sk-estimator sk-toggleable\"><input class=\"sk-toggleable__control sk-hidden--visually\" id=\"sk-estimator-id-10\" type=\"checkbox\" ><label for=\"sk-estimator-id-10\" class=\"sk-toggleable__label sk-toggleable__label-arrow\">HistGradientBoostingClassifier</label><div class=\"sk-toggleable__content\"><pre>HistGradientBoostingClassifier(l2_regularization=1.5, loss=&#x27;auto&#x27;, max_depth=25,\n",
       "                               scoring=&#x27;f1_micro&#x27;)</pre></div></div></div></div></div></div></div>"
      ],
      "text/plain": [
       "Pipeline(steps=[('standardscaler', StandardScaler()),\n",
       "                ('histgradientboostingclassifier',\n",
       "                 HistGradientBoostingClassifier(l2_regularization=1.5,\n",
       "                                                loss='auto', max_depth=25,\n",
       "                                                scoring='f1_micro'))])"
      ]
     },
     "execution_count": 106,
     "metadata": {},
     "output_type": "execute_result"
    }
   ],
   "source": [
    "pipe.fit(data_train , target_train)"
   ]
  },
  {
   "cell_type": "markdown",
   "id": "3e00a8c3",
   "metadata": {},
   "source": [
    "## Saving the pipeline"
   ]
  },
  {
   "cell_type": "code",
   "execution_count": 109,
   "id": "d0a9e649",
   "metadata": {},
   "outputs": [
    {
     "data": {
      "text/plain": [
       "['pipeline.pkl']"
      ]
     },
     "execution_count": 109,
     "metadata": {},
     "output_type": "execute_result"
    }
   ],
   "source": [
    "\n",
    "joblib.dump(pipe, \"pipeline.pkl\")\n"
   ]
  }
 ],
 "metadata": {
  "kernelspec": {
   "display_name": "Python 3 (ipykernel)",
   "language": "python",
   "name": "python3"
  },
  "language_info": {
   "codemirror_mode": {
    "name": "ipython",
    "version": 3
   },
   "file_extension": ".py",
   "mimetype": "text/x-python",
   "name": "python",
   "nbconvert_exporter": "python",
   "pygments_lexer": "ipython3",
   "version": "3.10.2"
  }
 },
 "nbformat": 4,
 "nbformat_minor": 5
}
